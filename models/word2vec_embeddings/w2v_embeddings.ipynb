{
 "cells": [
  {
   "cell_type": "code",
   "execution_count": 1,
   "id": "c7781d4b-b9e5-4c4b-8460-9665b268f65f",
   "metadata": {},
   "outputs": [],
   "source": [
    "import pandas as pd\n",
    "import numpy as np\n",
    "from gensim.models import Word2Vec\n",
    "import time\n",
    "import nltk\n",
    "from nltk import word_tokenize\n",
    "from tqdm import tqdm\n",
    "from tqdm.notebook import tqdm\n",
    "from IPython.display import display\n",
    "from gensim.scripts.glove2word2vec import glove2word2vec\n",
    "\n",
    "tqdm.pandas()\n",
    "\n",
    "import warnings as wrn\n",
    "wrn.filterwarnings('ignore')"
   ]
  },
  {
   "cell_type": "code",
   "execution_count": null,
   "id": "77551af4-0d16-4339-bac6-efb9c880149d",
   "metadata": {},
   "outputs": [],
   "source": [
    "train = pd.read_csv('/vast/amr10211/sc-train.csv')\n",
    "val = pd.read_csv('/vast/amr10211/sc-val.csv')\n",
    "test = pd.read_csv('/vast/amr10211/sc-test.csv')"
   ]
  },
  {
   "cell_type": "code",
   "execution_count": null,
   "id": "0a9aaf83-1a03-449a-bab1-5262b3cae7af",
   "metadata": {},
   "outputs": [],
   "source": [
    "def Word2Vec_embeddings(corpus, model_file_path):\n",
    "    # Tokenize the sentences\n",
    "    tokenized_corpus = [word_tokenize(doc.lower()) for doc in corpus]\n",
    "\n",
    "    # Train Word2Vec model\n",
    "    model = Word2Vec(sentences=tokenized_corpus, vector_size=50, window=5, sg=1, min_count=1, seed=7)\n",
    "    \n",
    "    #Save model\n",
    "    model.save(model_file_path)\n",
    "    return model"
   ]
  },
  {
   "cell_type": "code",
   "execution_count": null,
   "id": "d69c275a-6e9a-4c1f-a44f-594ad21789ef",
   "metadata": {},
   "outputs": [],
   "source": [
    "#Concat all text for Word2Vec model\n",
    "all_text = list(train['decision_text'])+list(val['decision_text'])+list(test['decision_text'])"
   ]
  },
  {
   "cell_type": "code",
   "execution_count": null,
   "id": "3e675096-3d4c-4d06-a1da-cafaf7046e97",
   "metadata": {},
   "outputs": [],
   "source": [
    "# Train Word2Vec model\n",
    "w2v_model = Word2Vec_embeddings(tqdm(all_text), \"w2v_embedding_model.bin\")"
   ]
  },
  {
   "cell_type": "code",
   "execution_count": null,
   "id": "0e01a69b-3c8f-45f7-8f5f-91cd5144118c",
   "metadata": {},
   "outputs": [],
   "source": []
  }
 ],
 "metadata": {
  "kernelspec": {
   "display_name": "Python 3 (ipykernel)",
   "language": "python",
   "name": "python3"
  },
  "language_info": {
   "codemirror_mode": {
    "name": "ipython",
    "version": 3
   },
   "file_extension": ".py",
   "mimetype": "text/x-python",
   "name": "python",
   "nbconvert_exporter": "python",
   "pygments_lexer": "ipython3",
   "version": "3.9.10"
  }
 },
 "nbformat": 4,
 "nbformat_minor": 5
}
