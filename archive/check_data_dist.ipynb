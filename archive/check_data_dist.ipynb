{
 "cells": [
  {
   "cell_type": "code",
   "execution_count": 1,
   "id": "8db3853b-e48b-4242-86b7-47f286172229",
   "metadata": {},
   "outputs": [],
   "source": [
    "import pandas as pd"
   ]
  },
  {
   "cell_type": "code",
   "execution_count": 2,
   "id": "afa6ec8f-eb81-473b-8675-7f8f5a4383ea",
   "metadata": {},
   "outputs": [],
   "source": [
    "sc_data_df = pd.read_csv('summarized-opinions-data-sc.csv')"
   ]
  },
  {
   "cell_type": "code",
   "execution_count": 3,
   "id": "498d1320-b9b8-474b-8799-6c5702fa6dca",
   "metadata": {},
   "outputs": [
    {
     "data": {
      "text/html": [
       "<div>\n",
       "<style scoped>\n",
       "    .dataframe tbody tr th:only-of-type {\n",
       "        vertical-align: middle;\n",
       "    }\n",
       "\n",
       "    .dataframe tbody tr th {\n",
       "        vertical-align: top;\n",
       "    }\n",
       "\n",
       "    .dataframe thead th {\n",
       "        text-align: right;\n",
       "    }\n",
       "</style>\n",
       "<table border=\"1\" class=\"dataframe\">\n",
       "  <thead>\n",
       "    <tr style=\"text-align: right;\">\n",
       "      <th></th>\n",
       "      <th>Unnamed: 0</th>\n",
       "      <th>id</th>\n",
       "      <th>cluster_id</th>\n",
       "      <th>type</th>\n",
       "      <th>decision_text</th>\n",
       "      <th>date_filed</th>\n",
       "      <th>scdb_decision_direction</th>\n",
       "    </tr>\n",
       "  </thead>\n",
       "  <tbody>\n",
       "    <tr>\n",
       "      <th>0</th>\n",
       "      <td>3</td>\n",
       "      <td>103341</td>\n",
       "      <td>103341</td>\n",
       "      <td>010combined</td>\n",
       "      <td>In this paper, Justice Black defends the provi...</td>\n",
       "      <td>1940-05-20</td>\n",
       "      <td>2.0</td>\n",
       "    </tr>\n",
       "    <tr>\n",
       "      <th>1</th>\n",
       "      <td>6</td>\n",
       "      <td>9419101</td>\n",
       "      <td>103344</td>\n",
       "      <td>020lead</td>\n",
       "      <td>In this case, the foreign corporations brought...</td>\n",
       "      <td>1940-04-22</td>\n",
       "      <td>2.0</td>\n",
       "    </tr>\n",
       "    <tr>\n",
       "      <th>2</th>\n",
       "      <td>7</td>\n",
       "      <td>9419102</td>\n",
       "      <td>103344</td>\n",
       "      <td>040dissent</td>\n",
       "      <td>In this case, Justice Roberts disagrees with t...</td>\n",
       "      <td>1940-04-22</td>\n",
       "      <td>1.0</td>\n",
       "    </tr>\n",
       "    <tr>\n",
       "      <th>3</th>\n",
       "      <td>11</td>\n",
       "      <td>103348</td>\n",
       "      <td>103348</td>\n",
       "      <td>010combined</td>\n",
       "      <td>In this case, the Court argues that a local la...</td>\n",
       "      <td>1940-05-20</td>\n",
       "      <td>2.0</td>\n",
       "    </tr>\n",
       "    <tr>\n",
       "      <th>4</th>\n",
       "      <td>13</td>\n",
       "      <td>103350</td>\n",
       "      <td>103350</td>\n",
       "      <td>010combined</td>\n",
       "      <td>In this case, Reed argues that the railroads B...</td>\n",
       "      <td>1940-04-29</td>\n",
       "      <td>1.0</td>\n",
       "    </tr>\n",
       "  </tbody>\n",
       "</table>\n",
       "</div>"
      ],
      "text/plain": [
       "   Unnamed: 0       id  cluster_id         type  \\\n",
       "0           3   103341      103341  010combined   \n",
       "1           6  9419101      103344      020lead   \n",
       "2           7  9419102      103344   040dissent   \n",
       "3          11   103348      103348  010combined   \n",
       "4          13   103350      103350  010combined   \n",
       "\n",
       "                                       decision_text  date_filed  \\\n",
       "0  In this paper, Justice Black defends the provi...  1940-05-20   \n",
       "1  In this case, the foreign corporations brought...  1940-04-22   \n",
       "2  In this case, Justice Roberts disagrees with t...  1940-04-22   \n",
       "3  In this case, the Court argues that a local la...  1940-05-20   \n",
       "4  In this case, Reed argues that the railroads B...  1940-04-29   \n",
       "\n",
       "   scdb_decision_direction  \n",
       "0                      2.0  \n",
       "1                      2.0  \n",
       "2                      1.0  \n",
       "3                      2.0  \n",
       "4                      1.0  "
      ]
     },
     "execution_count": 3,
     "metadata": {},
     "output_type": "execute_result"
    }
   ],
   "source": [
    "sc_data_df.head()"
   ]
  },
  {
   "cell_type": "code",
   "execution_count": 4,
   "id": "082108d8-696b-4117-8ca1-4c65f9525eed",
   "metadata": {},
   "outputs": [
    {
     "data": {
      "text/plain": [
       "1.0    15424\n",
       "2.0    11001\n",
       "Name: scdb_decision_direction, dtype: int64"
      ]
     },
     "execution_count": 4,
     "metadata": {},
     "output_type": "execute_result"
    }
   ],
   "source": [
    "sc_data_df['scdb_decision_direction'].value_counts()"
   ]
  },
  {
   "cell_type": "code",
   "execution_count": 5,
   "id": "374eb64d-3b6a-4996-b0be-dc7a82825a2a",
   "metadata": {},
   "outputs": [
    {
     "data": {
      "text/plain": [
       "0.5836896877956481"
      ]
     },
     "execution_count": 5,
     "metadata": {},
     "output_type": "execute_result"
    }
   ],
   "source": [
    "15424/(15424+11001)"
   ]
  },
  {
   "cell_type": "code",
   "execution_count": 6,
   "id": "f59c4b23-ad15-4667-8686-a9ec1c920bb8",
   "metadata": {},
   "outputs": [
    {
     "data": {
      "text/plain": [
       "0.41631031220435194"
      ]
     },
     "execution_count": 6,
     "metadata": {},
     "output_type": "execute_result"
    }
   ],
   "source": [
    "11001/(15424+11001)"
   ]
  },
  {
   "cell_type": "code",
   "execution_count": null,
   "id": "b91f8cb4-a4fd-4230-85c3-fb2c302c1d23",
   "metadata": {},
   "outputs": [],
   "source": []
  }
 ],
 "metadata": {
  "kernelspec": {
   "display_name": "Python 3 (ipykernel)",
   "language": "python",
   "name": "python3"
  },
  "language_info": {
   "codemirror_mode": {
    "name": "ipython",
    "version": 3
   },
   "file_extension": ".py",
   "mimetype": "text/x-python",
   "name": "python",
   "nbconvert_exporter": "python",
   "pygments_lexer": "ipython3",
   "version": "3.9.10"
  }
 },
 "nbformat": 4,
 "nbformat_minor": 5
}
