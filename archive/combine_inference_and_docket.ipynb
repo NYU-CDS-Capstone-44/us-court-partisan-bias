{
 "cells": [
  {
   "cell_type": "markdown",
   "id": "63b73492-cfaf-4ff8-84dc-7be2ff771ab0",
   "metadata": {},
   "source": [
    "## Workflow:\n",
    "-Get Inference Results from BERT Model\n",
    "-Run this notebook on each chunk to combine with dock"
   ]
  },
  {
   "cell_type": "code",
   "execution_count": null,
   "id": "36d9a8f8-a24e-4c4d-b15f-bae63a916637",
   "metadata": {},
   "outputs": [],
   "source": [
    "#Set Chunk Here\n",
    "chunk= "
   ]
  },
  {
   "cell_type": "code",
   "execution_count": 1,
   "id": "0fd05f95",
   "metadata": {},
   "outputs": [],
   "source": [
    "import pandas as pd\n",
    "pd.set_option('display.max_rows', 300)"
   ]
  },
  {
   "cell_type": "code",
   "execution_count": 2,
   "id": "05f571e3",
   "metadata": {},
   "outputs": [
    {
     "name": "stderr",
     "output_type": "stream",
     "text": [
      "/state/partition1/job-40555904/ipykernel_1065238/121397283.py:5: FutureWarning: The error_bad_lines argument has been deprecated and will be removed in a future version. Use on_bad_lines in the future.\n",
      "\n",
      "\n",
      "  filtered_docket_df = pd.read_csv('/vast/amr10211/dockets-2023-08-31-filtered-withna.csv',\n",
      "/state/partition1/job-40555904/ipykernel_1065238/121397283.py:5: FutureWarning: The warn_bad_lines argument has been deprecated and will be removed in a future version. Use on_bad_lines in the future.\n",
      "\n",
      "\n",
      "  filtered_docket_df = pd.read_csv('/vast/amr10211/dockets-2023-08-31-filtered-withna.csv',\n"
     ]
    }
   ],
   "source": [
    "columns_to_load = ['id', 'court_id']  # Adjust this list based on your actual column names\n",
    "\n",
    "try:\n",
    "    # Reading the CSV file into a DataFrame\n",
    "    filtered_docket_df = pd.read_csv('/vast/amr10211/dockets-2023-08-31-filtered-withna.csv', \n",
    "                                     usecols=columns_to_load, \n",
    "                                     error_bad_lines=False,\n",
    "                                     warn_bad_lines=True)\n",
    "except pd.errors.ParserError as e:\n",
    "    print(f\"ParserError: {e}\")"
   ]
  },
  {
   "cell_type": "code",
   "execution_count": 3,
   "id": "5ac0c0d0",
   "metadata": {},
   "outputs": [],
   "source": [
    "columns_to_load = ['id', 'docket_id']\n",
    "\n",
    "cluster_df =  pd.read_csv('/vast/amr10211/opinions-cluster-data-lc.csv', usecols=columns_to_load)"
   ]
  },
  {
   "cell_type": "code",
   "execution_count": 44,
   "id": "af78b201",
   "metadata": {},
   "outputs": [
    {
     "name": "stderr",
     "output_type": "stream",
     "text": [
      "/share/apps/python/3.8.6/intel/lib/python3.8/site-packages/IPython/core/interactiveshell.py:3145: DtypeWarning: Columns (14,16,17) have mixed types.Specify dtype option on import or set low_memory=False.\n",
      "  has_raised = await self.run_ast_nodes(code_ast.body, cell_name,\n"
     ]
    }
   ],
   "source": [
    "pd.read_csv('/scratch/amh9750/capstone/bert_inference/inference_results_legal_BERT_chunk_1.csv')"
   ]
  },
  {
   "cell_type": "code",
   "execution_count": 45,
   "id": "aa9f0d41",
   "metadata": {},
   "outputs": [],
   "source": [
    "inference_df = inference_df.rename(columns={'id': 'opinion_id'})\n",
    "cluster_df = cluster_df.rename(columns={'id': 'cluster_id'})"
   ]
  },
  {
   "cell_type": "code",
   "execution_count": 46,
   "id": "225f29f0",
   "metadata": {},
   "outputs": [],
   "source": [
    "inference_df = inference_df.merge(cluster_df[['cluster_id','docket_id']], how='left', on='cluster_id')"
   ]
  },
  {
   "cell_type": "code",
   "execution_count": 47,
   "id": "f96a951d",
   "metadata": {},
   "outputs": [],
   "source": [
    "inference_df = inference_df.merge(filtered_docket_df, how='left', left_on='docket_id', right_on='id')"
   ]
  },
  {
   "cell_type": "code",
   "execution_count": 48,
   "id": "7a6a2627",
   "metadata": {},
   "outputs": [
    {
     "data": {
      "text/plain": [
       "resource_uri               0\n",
       "opinion_id            999974\n",
       "absolute_url               0\n",
       "cluster_id            999974\n",
       "cluster                    0\n",
       "author_id              10833\n",
       "author                     0\n",
       "joined_by                  0\n",
       "date_created          999974\n",
       "date_modified         999974\n",
       "author_str            755143\n",
       "per_curiam            999974\n",
       "joined_by_str              0\n",
       "type                  999974\n",
       "sha1                  168416\n",
       "page_count             81988\n",
       "download_url          161539\n",
       "local_path             83006\n",
       "extracted_by_ocr      999974\n",
       "opinions_cited             0\n",
       "judges                988120\n",
       "judge                 999974\n",
       "date_filed            999974\n",
       "probability           999974\n",
       "decision_direction    999974\n",
       "docket_id             999974\n",
       "id                    257293\n",
       "court_id              257293\n",
       "dtype: int64"
      ]
     },
     "execution_count": 48,
     "metadata": {},
     "output_type": "execute_result"
    }
   ],
   "source": [
    "inference_df.count()"
   ]
  },
  {
   "cell_type": "code",
   "execution_count": 50,
   "id": "3eea186d",
   "metadata": {},
   "outputs": [
    {
     "data": {
      "text/html": [
       "<div>\n",
       "<style scoped>\n",
       "    .dataframe tbody tr th:only-of-type {\n",
       "        vertical-align: middle;\n",
       "    }\n",
       "\n",
       "    .dataframe tbody tr th {\n",
       "        vertical-align: top;\n",
       "    }\n",
       "\n",
       "    .dataframe thead th {\n",
       "        text-align: right;\n",
       "    }\n",
       "</style>\n",
       "<table border=\"1\" class=\"dataframe\">\n",
       "  <thead>\n",
       "    <tr style=\"text-align: right;\">\n",
       "      <th></th>\n",
       "      <th>resource_uri</th>\n",
       "      <th>opinion_id</th>\n",
       "      <th>absolute_url</th>\n",
       "      <th>cluster_id</th>\n",
       "      <th>cluster</th>\n",
       "      <th>author_id</th>\n",
       "      <th>author</th>\n",
       "      <th>joined_by</th>\n",
       "      <th>date_created</th>\n",
       "      <th>date_modified</th>\n",
       "      <th>...</th>\n",
       "      <th>extracted_by_ocr</th>\n",
       "      <th>opinions_cited</th>\n",
       "      <th>judges</th>\n",
       "      <th>judge</th>\n",
       "      <th>date_filed</th>\n",
       "      <th>probability</th>\n",
       "      <th>decision_direction</th>\n",
       "      <th>docket_id</th>\n",
       "      <th>id</th>\n",
       "      <th>court_id</th>\n",
       "    </tr>\n",
       "  </thead>\n",
       "  <tbody>\n",
       "    <tr>\n",
       "      <th>0</th>\n",
       "      <td>NaN</td>\n",
       "      <td>7347153</td>\n",
       "      <td>NaN</td>\n",
       "      <td>7427349</td>\n",
       "      <td>NaN</td>\n",
       "      <td>NaN</td>\n",
       "      <td>NaN</td>\n",
       "      <td>NaN</td>\n",
       "      <td>2022-07-26 01:06:24.86499+00</td>\n",
       "      <td>2022-07-26 01:06:24.865016+00</td>\n",
       "      <td>...</td>\n",
       "      <td>t</td>\n",
       "      <td>NaN</td>\n",
       "      <td>Clement</td>\n",
       "      <td>Clement</td>\n",
       "      <td>1954-04-08</td>\n",
       "      <td>0.549185</td>\n",
       "      <td>1</td>\n",
       "      <td>64418478</td>\n",
       "      <td>64418478.0</td>\n",
       "      <td>calappdeptsuper</td>\n",
       "    </tr>\n",
       "    <tr>\n",
       "      <th>1</th>\n",
       "      <td>NaN</td>\n",
       "      <td>7842685</td>\n",
       "      <td>NaN</td>\n",
       "      <td>7895231</td>\n",
       "      <td>NaN</td>\n",
       "      <td>NaN</td>\n",
       "      <td>NaN</td>\n",
       "      <td>NaN</td>\n",
       "      <td>2022-09-08 17:04:04.834586+00</td>\n",
       "      <td>2022-09-08 17:04:04.834614+00</td>\n",
       "      <td>...</td>\n",
       "      <td>t</td>\n",
       "      <td>NaN</td>\n",
       "      <td>Berdon</td>\n",
       "      <td>Berdon</td>\n",
       "      <td>1993-01-21</td>\n",
       "      <td>0.566750</td>\n",
       "      <td>1</td>\n",
       "      <td>64988703</td>\n",
       "      <td>NaN</td>\n",
       "      <td>NaN</td>\n",
       "    </tr>\n",
       "    <tr>\n",
       "      <th>2</th>\n",
       "      <td>NaN</td>\n",
       "      <td>7845684</td>\n",
       "      <td>NaN</td>\n",
       "      <td>7897737</td>\n",
       "      <td>NaN</td>\n",
       "      <td>NaN</td>\n",
       "      <td>NaN</td>\n",
       "      <td>NaN</td>\n",
       "      <td>2022-09-08 17:10:04.781207+00</td>\n",
       "      <td>2022-09-08 17:10:04.781234+00</td>\n",
       "      <td>...</td>\n",
       "      <td>t</td>\n",
       "      <td>NaN</td>\n",
       "      <td>Berdon</td>\n",
       "      <td>Berdon</td>\n",
       "      <td>1998-07-16</td>\n",
       "      <td>0.591329</td>\n",
       "      <td>1</td>\n",
       "      <td>64991247</td>\n",
       "      <td>NaN</td>\n",
       "      <td>NaN</td>\n",
       "    </tr>\n",
       "    <tr>\n",
       "      <th>3</th>\n",
       "      <td>NaN</td>\n",
       "      <td>7347154</td>\n",
       "      <td>NaN</td>\n",
       "      <td>7427350</td>\n",
       "      <td>NaN</td>\n",
       "      <td>NaN</td>\n",
       "      <td>NaN</td>\n",
       "      <td>NaN</td>\n",
       "      <td>2022-07-26 01:06:24.916646+00</td>\n",
       "      <td>2022-07-26 01:06:24.916666+00</td>\n",
       "      <td>...</td>\n",
       "      <td>t</td>\n",
       "      <td>NaN</td>\n",
       "      <td>Hilliard</td>\n",
       "      <td>Hilliard</td>\n",
       "      <td>1954-04-12</td>\n",
       "      <td>0.440153</td>\n",
       "      <td>0</td>\n",
       "      <td>64418479</td>\n",
       "      <td>64418479.0</td>\n",
       "      <td>calappdeptsuper</td>\n",
       "    </tr>\n",
       "    <tr>\n",
       "      <th>4</th>\n",
       "      <td>NaN</td>\n",
       "      <td>7347207</td>\n",
       "      <td>NaN</td>\n",
       "      <td>7427399</td>\n",
       "      <td>NaN</td>\n",
       "      <td>NaN</td>\n",
       "      <td>NaN</td>\n",
       "      <td>NaN</td>\n",
       "      <td>2022-07-26 01:06:32.636426+00</td>\n",
       "      <td>2022-07-26 01:06:32.636445+00</td>\n",
       "      <td>...</td>\n",
       "      <td>t</td>\n",
       "      <td>NaN</td>\n",
       "      <td>Bishop</td>\n",
       "      <td>Bishop</td>\n",
       "      <td>1957-10-07</td>\n",
       "      <td>0.511651</td>\n",
       "      <td>1</td>\n",
       "      <td>64418528</td>\n",
       "      <td>64418528.0</td>\n",
       "      <td>calappdeptsuper</td>\n",
       "    </tr>\n",
       "  </tbody>\n",
       "</table>\n",
       "<p>5 rows × 28 columns</p>\n",
       "</div>"
      ],
      "text/plain": [
       "   resource_uri  opinion_id  absolute_url  cluster_id  cluster  author_id  \\\n",
       "0           NaN     7347153           NaN     7427349      NaN        NaN   \n",
       "1           NaN     7842685           NaN     7895231      NaN        NaN   \n",
       "2           NaN     7845684           NaN     7897737      NaN        NaN   \n",
       "3           NaN     7347154           NaN     7427350      NaN        NaN   \n",
       "4           NaN     7347207           NaN     7427399      NaN        NaN   \n",
       "\n",
       "   author  joined_by                   date_created  \\\n",
       "0     NaN        NaN   2022-07-26 01:06:24.86499+00   \n",
       "1     NaN        NaN  2022-09-08 17:04:04.834586+00   \n",
       "2     NaN        NaN  2022-09-08 17:10:04.781207+00   \n",
       "3     NaN        NaN  2022-07-26 01:06:24.916646+00   \n",
       "4     NaN        NaN  2022-07-26 01:06:32.636426+00   \n",
       "\n",
       "                   date_modified  ... extracted_by_ocr opinions_cited  \\\n",
       "0  2022-07-26 01:06:24.865016+00  ...                t            NaN   \n",
       "1  2022-09-08 17:04:04.834614+00  ...                t            NaN   \n",
       "2  2022-09-08 17:10:04.781234+00  ...                t            NaN   \n",
       "3  2022-07-26 01:06:24.916666+00  ...                t            NaN   \n",
       "4  2022-07-26 01:06:32.636445+00  ...                t            NaN   \n",
       "\n",
       "     judges     judge  date_filed  probability decision_direction docket_id  \\\n",
       "0   Clement   Clement  1954-04-08     0.549185                  1  64418478   \n",
       "1    Berdon    Berdon  1993-01-21     0.566750                  1  64988703   \n",
       "2    Berdon    Berdon  1998-07-16     0.591329                  1  64991247   \n",
       "3  Hilliard  Hilliard  1954-04-12     0.440153                  0  64418479   \n",
       "4    Bishop    Bishop  1957-10-07     0.511651                  1  64418528   \n",
       "\n",
       "           id         court_id  \n",
       "0  64418478.0  calappdeptsuper  \n",
       "1         NaN              NaN  \n",
       "2         NaN              NaN  \n",
       "3  64418479.0  calappdeptsuper  \n",
       "4  64418528.0  calappdeptsuper  \n",
       "\n",
       "[5 rows x 28 columns]"
      ]
     },
     "execution_count": 50,
     "metadata": {},
     "output_type": "execute_result"
    }
   ],
   "source": [
    "inference_df.head(5)"
   ]
  },
  {
   "cell_type": "code",
   "execution_count": 51,
   "id": "38c92fe9",
   "metadata": {},
   "outputs": [
    {
     "name": "stdout",
     "output_type": "stream",
     "text": [
      "Total rows where all three columns are null: 175951\n"
     ]
    }
   ],
   "source": [
    "\n",
    "# List of columns to check for null values\n",
    "columns_to_check = ['author_str', 'author_id', 'court_id']\n",
    "\n",
    "# Count the number of null values for each row across the specified columns\n",
    "null_counts_per_row = inference_df[columns_to_check].isnull().sum(axis=1)\n",
    "\n",
    "# Count the number of rows where all specified columns are null\n",
    "total_rows_with_all_null = (null_counts_per_row == len(columns_to_check)).sum()\n",
    "\n",
    "# Display the result\n",
    "print(\"Total rows where all three columns are null:\", total_rows_with_all_null)\n"
   ]
  },
  {
   "cell_type": "code",
   "execution_count": 52,
   "id": "4383ad96",
   "metadata": {},
   "outputs": [],
   "source": [
    "inference_df.to_csv('lower_court_data_labels_chunk1_with_courtID.csv')"
   ]
  },
  {
   "cell_type": "code",
   "execution_count": null,
   "id": "a1c5b68d",
   "metadata": {},
   "outputs": [],
   "source": []
  }
 ],
 "metadata": {
  "kernelspec": {
   "display_name": "Python 3 (ipykernel)",
   "language": "python",
   "name": "python3"
  },
  "language_info": {
   "codemirror_mode": {
    "name": "ipython",
    "version": 3
   },
   "file_extension": ".py",
   "mimetype": "text/x-python",
   "name": "python",
   "nbconvert_exporter": "python",
   "pygments_lexer": "ipython3",
   "version": "3.9.10"
  }
 },
 "nbformat": 4,
 "nbformat_minor": 5
}
