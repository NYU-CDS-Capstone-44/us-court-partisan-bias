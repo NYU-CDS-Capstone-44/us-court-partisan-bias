{
 "cells": [
  {
   "cell_type": "code",
   "execution_count": 1,
   "id": "56eddd01",
   "metadata": {},
   "outputs": [],
   "source": [
    "import pandas as pd\n",
    "pd.set_option('display.max_columns', None)\n"
   ]
  },
  {
   "cell_type": "code",
   "execution_count": 2,
   "id": "2dc51a06",
   "metadata": {},
   "outputs": [],
   "source": [
    "modern_topic_df = pd.read_csv('/vast/amr10211/SCDB_2022_01_caseCentered_Citation.csv', encoding='latin-1')"
   ]
  },
  {
   "cell_type": "code",
   "execution_count": 3,
   "id": "32f5cf28",
   "metadata": {},
   "outputs": [],
   "source": [
    "modern_topic_df = modern_topic_df[['caseId', 'issueArea']]"
   ]
  },
  {
   "cell_type": "code",
   "execution_count": 4,
   "id": "80c53134",
   "metadata": {},
   "outputs": [],
   "source": [
    "legacy_topic_df = pd.read_csv('/vast/amr10211/SCDB_Legacy_07_caseCentered_Citation.csv', encoding='latin-1')"
   ]
  },
  {
   "cell_type": "code",
   "execution_count": 5,
   "id": "0b2f9b84",
   "metadata": {},
   "outputs": [],
   "source": [
    "legacy_topic_df = legacy_topic_df[['caseId', 'issueArea']]"
   ]
  },
  {
   "cell_type": "code",
   "execution_count": 6,
   "id": "4b00f46f",
   "metadata": {},
   "outputs": [],
   "source": [
    "topic_df = pd.concat((legacy_topic_df,modern_topic_df),axis=0)"
   ]
  },
  {
   "cell_type": "code",
   "execution_count": 7,
   "id": "638b4fb6",
   "metadata": {},
   "outputs": [],
   "source": [
    "cluster_df = pd.read_csv('/vast/amr10211/opinions-cluster-data-sc.csv')"
   ]
  },
  {
   "cell_type": "code",
   "execution_count": 8,
   "id": "ea1b84e1",
   "metadata": {},
   "outputs": [],
   "source": [
    "cluster_df['date_filed'] = pd.to_datetime(cluster_df['date_filed'], errors='coerce')\n",
    "cluster_df = cluster_df[cluster_df['date_filed'].dt.year >= 1930]"
   ]
  },
  {
   "cell_type": "code",
   "execution_count": 9,
   "id": "701ed870",
   "metadata": {},
   "outputs": [],
   "source": [
    "cluster_df = cluster_df[['id','scdb_id']]"
   ]
  },
  {
   "cell_type": "code",
   "execution_count": 10,
   "id": "a2859a8a",
   "metadata": {},
   "outputs": [],
   "source": [
    "merged_df = cluster_df.merge(topic_df, how = 'left', left_on='scdb_id', right_on= 'caseId')"
   ]
  },
  {
   "cell_type": "code",
   "execution_count": 11,
   "id": "55c6eb37",
   "metadata": {},
   "outputs": [
    {
     "data": {
      "text/plain": [
       "id           11496\n",
       "scdb_id      11496\n",
       "caseId       11496\n",
       "issueArea    11469\n",
       "dtype: int64"
      ]
     },
     "execution_count": 11,
     "metadata": {},
     "output_type": "execute_result"
    }
   ],
   "source": [
    "merged_df.count()"
   ]
  },
  {
   "cell_type": "code",
   "execution_count": 12,
   "id": "8f7145b9",
   "metadata": {},
   "outputs": [
    {
     "data": {
      "text/plain": [
       "8.0     2749\n",
       "1.0     2216\n",
       "9.0     1583\n",
       "2.0     1574\n",
       "12.0     750\n",
       "3.0      718\n",
       "10.0     501\n",
       "7.0      472\n",
       "4.0      414\n",
       "11.0     123\n",
       "6.0      120\n",
       "5.0      118\n",
       "14.0      92\n",
       "13.0      39\n",
       "Name: issueArea, dtype: int64"
      ]
     },
     "execution_count": 12,
     "metadata": {},
     "output_type": "execute_result"
    }
   ],
   "source": [
    "merged_df['issueArea'].value_counts()"
   ]
  },
  {
   "cell_type": "code",
   "execution_count": 13,
   "id": "246ab24d",
   "metadata": {},
   "outputs": [
    {
     "data": {
      "text/html": [
       "<div>\n",
       "<style scoped>\n",
       "    .dataframe tbody tr th:only-of-type {\n",
       "        vertical-align: middle;\n",
       "    }\n",
       "\n",
       "    .dataframe tbody tr th {\n",
       "        vertical-align: top;\n",
       "    }\n",
       "\n",
       "    .dataframe thead th {\n",
       "        text-align: right;\n",
       "    }\n",
       "</style>\n",
       "<table border=\"1\" class=\"dataframe\">\n",
       "  <thead>\n",
       "    <tr style=\"text-align: right;\">\n",
       "      <th></th>\n",
       "      <th>id</th>\n",
       "      <th>scdb_id</th>\n",
       "      <th>caseId</th>\n",
       "      <th>issueArea</th>\n",
       "    </tr>\n",
       "  </thead>\n",
       "  <tbody>\n",
       "    <tr>\n",
       "      <th>0</th>\n",
       "      <td>105739</td>\n",
       "      <td>1957-136</td>\n",
       "      <td>1957-136</td>\n",
       "      <td>8.0</td>\n",
       "    </tr>\n",
       "    <tr>\n",
       "      <th>1</th>\n",
       "      <td>105740</td>\n",
       "      <td>1957-137</td>\n",
       "      <td>1957-137</td>\n",
       "      <td>7.0</td>\n",
       "    </tr>\n",
       "    <tr>\n",
       "      <th>2</th>\n",
       "      <td>105749</td>\n",
       "      <td>1957-148</td>\n",
       "      <td>1957-148</td>\n",
       "      <td>1.0</td>\n",
       "    </tr>\n",
       "    <tr>\n",
       "      <th>3</th>\n",
       "      <td>105750</td>\n",
       "      <td>1957-149</td>\n",
       "      <td>1957-149</td>\n",
       "      <td>1.0</td>\n",
       "    </tr>\n",
       "    <tr>\n",
       "      <th>4</th>\n",
       "      <td>105760</td>\n",
       "      <td>1957-154</td>\n",
       "      <td>1957-154</td>\n",
       "      <td>1.0</td>\n",
       "    </tr>\n",
       "    <tr>\n",
       "      <th>...</th>\n",
       "      <td>...</td>\n",
       "      <td>...</td>\n",
       "      <td>...</td>\n",
       "      <td>...</td>\n",
       "    </tr>\n",
       "    <tr>\n",
       "      <th>11491</th>\n",
       "      <td>102457</td>\n",
       "      <td>1934-063</td>\n",
       "      <td>1934-063</td>\n",
       "      <td>8.0</td>\n",
       "    </tr>\n",
       "    <tr>\n",
       "      <th>11492</th>\n",
       "      <td>102408</td>\n",
       "      <td>1934-165</td>\n",
       "      <td>1934-165</td>\n",
       "      <td>2.0</td>\n",
       "    </tr>\n",
       "    <tr>\n",
       "      <th>11493</th>\n",
       "      <td>102409</td>\n",
       "      <td>1934-167</td>\n",
       "      <td>1934-167</td>\n",
       "      <td>3.0</td>\n",
       "    </tr>\n",
       "    <tr>\n",
       "      <th>11494</th>\n",
       "      <td>102411</td>\n",
       "      <td>1934-169</td>\n",
       "      <td>1934-169</td>\n",
       "      <td>4.0</td>\n",
       "    </tr>\n",
       "    <tr>\n",
       "      <th>11495</th>\n",
       "      <td>105690</td>\n",
       "      <td>1957-098</td>\n",
       "      <td>1957-098</td>\n",
       "      <td>1.0</td>\n",
       "    </tr>\n",
       "  </tbody>\n",
       "</table>\n",
       "<p>11496 rows × 4 columns</p>\n",
       "</div>"
      ],
      "text/plain": [
       "           id   scdb_id    caseId  issueArea\n",
       "0      105739  1957-136  1957-136        8.0\n",
       "1      105740  1957-137  1957-137        7.0\n",
       "2      105749  1957-148  1957-148        1.0\n",
       "3      105750  1957-149  1957-149        1.0\n",
       "4      105760  1957-154  1957-154        1.0\n",
       "...       ...       ...       ...        ...\n",
       "11491  102457  1934-063  1934-063        8.0\n",
       "11492  102408  1934-165  1934-165        2.0\n",
       "11493  102409  1934-167  1934-167        3.0\n",
       "11494  102411  1934-169  1934-169        4.0\n",
       "11495  105690  1957-098  1957-098        1.0\n",
       "\n",
       "[11496 rows x 4 columns]"
      ]
     },
     "execution_count": 13,
     "metadata": {},
     "output_type": "execute_result"
    }
   ],
   "source": [
    "merged_df"
   ]
  },
  {
   "cell_type": "code",
   "execution_count": 11,
   "id": "c1342bf4",
   "metadata": {},
   "outputs": [],
   "source": [
    "sum_df = pd.read_csv('summarized-opinions-data-sc.csv')\n",
    "train_df = pd.read_csv('/vast/amr10211/sc-train.csv')\n",
    "val_df = pd.read_csv('/vast/amr10211/sc-val.csv')\n",
    "test_df = pd.read_csv('/vast/amr10211/sc-test.csv')\n",
    "\n",
    "sum_df = sum_df.merge(merged_df, how='left', left_on='cluster_id', right_on='id')\n",
    "sum_df = sum_df.drop(['Unnamed: 0','id_y', 'scdb_id', 'caseId'], axis=1)\n",
    "sum_df = sum_df.rename(columns={'id_x': 'id', 'issueArea': 'issue_area'})\n",
    "sum_df = sum_df.dropna(subset=['issue_area'])\n",
    "\n",
    "train_df = train_df.merge(merged_df, how='left', left_on='cluster_id', right_on='id')\n",
    "train_df = train_df.drop(['Unnamed: 0','id_y', 'scdb_id', 'caseId'], axis=1)\n",
    "train_df = train_df.rename(columns={'id_x':'id', 'issueArea': 'issue_area'})\n",
    "train_df = train_df.dropna(subset=['issue_area'])\n",
    "\n",
    "val_df = val_df.merge(merged_df, how='left', left_on='cluster_id', right_on='id')\n",
    "val_df = val_df.drop(['Unnamed: 0','id_y', 'scdb_id', 'caseId'], axis=1)\n",
    "val_df = val_df.rename(columns={'id_x':'id', 'issueArea': 'issue_area'})\n",
    "val_df = val_df.dropna(subset=['issue_area'])\n",
    "\n",
    "test_df = test_df.merge(merged_df, how='left', left_on='cluster_id', right_on='id')\n",
    "test_df = test_df.drop(['Unnamed: 0','id_y', 'scdb_id', 'caseId'], axis=1)\n",
    "test_df = test_df.rename(columns={'id_x':'id', 'issueArea': 'issue_area'})\n",
    "test_df = test_df.dropna(subset=['issue_area'])\n"
   ]
  },
  {
   "cell_type": "code",
   "execution_count": 12,
   "id": "38c14289",
   "metadata": {},
   "outputs": [],
   "source": [
    "sum_df.to_csv('summarized-opinions-data-sc-topic.csv')\n",
    "train_df.to_csv('/vast/amr10211/sc-train-topic.csv')\n",
    "val_df.to_csv('/vast/amr10211/sc-val-topic.csv')\n",
    "test_df.to_csv('/vast/amr10211/sc-test-topic.csv')"
   ]
  },
  {
   "cell_type": "code",
   "execution_count": 16,
   "id": "48e10f29",
   "metadata": {},
   "outputs": [
    {
     "data": {
      "text/html": [
       "<div>\n",
       "<style scoped>\n",
       "    .dataframe tbody tr th:only-of-type {\n",
       "        vertical-align: middle;\n",
       "    }\n",
       "\n",
       "    .dataframe tbody tr th {\n",
       "        vertical-align: top;\n",
       "    }\n",
       "\n",
       "    .dataframe thead th {\n",
       "        text-align: right;\n",
       "    }\n",
       "</style>\n",
       "<table border=\"1\" class=\"dataframe\">\n",
       "  <thead>\n",
       "    <tr style=\"text-align: right;\">\n",
       "      <th></th>\n",
       "      <th>id</th>\n",
       "      <th>cluster_id</th>\n",
       "      <th>type</th>\n",
       "      <th>decision_text</th>\n",
       "      <th>date_filed</th>\n",
       "      <th>scdb_decision_direction</th>\n",
       "      <th>issue_area</th>\n",
       "    </tr>\n",
       "  </thead>\n",
       "  <tbody>\n",
       "    <tr>\n",
       "      <th>0</th>\n",
       "      <td>103341</td>\n",
       "      <td>103341</td>\n",
       "      <td>010combined</td>\n",
       "      <td>In this paper, Justice Black defends the provi...</td>\n",
       "      <td>1940-05-20</td>\n",
       "      <td>2.0</td>\n",
       "      <td>8.0</td>\n",
       "    </tr>\n",
       "    <tr>\n",
       "      <th>1</th>\n",
       "      <td>9419101</td>\n",
       "      <td>103344</td>\n",
       "      <td>020lead</td>\n",
       "      <td>In this case, the foreign corporations brought...</td>\n",
       "      <td>1940-04-22</td>\n",
       "      <td>2.0</td>\n",
       "      <td>8.0</td>\n",
       "    </tr>\n",
       "    <tr>\n",
       "      <th>2</th>\n",
       "      <td>9419102</td>\n",
       "      <td>103344</td>\n",
       "      <td>040dissent</td>\n",
       "      <td>In this case, Justice Roberts disagrees with t...</td>\n",
       "      <td>1940-04-22</td>\n",
       "      <td>1.0</td>\n",
       "      <td>8.0</td>\n",
       "    </tr>\n",
       "    <tr>\n",
       "      <th>3</th>\n",
       "      <td>103348</td>\n",
       "      <td>103348</td>\n",
       "      <td>010combined</td>\n",
       "      <td>In this case, the Court argues that a local la...</td>\n",
       "      <td>1940-05-20</td>\n",
       "      <td>2.0</td>\n",
       "      <td>3.0</td>\n",
       "    </tr>\n",
       "    <tr>\n",
       "      <th>4</th>\n",
       "      <td>103350</td>\n",
       "      <td>103350</td>\n",
       "      <td>010combined</td>\n",
       "      <td>In this case, Reed argues that the railroads B...</td>\n",
       "      <td>1940-04-29</td>\n",
       "      <td>1.0</td>\n",
       "      <td>8.0</td>\n",
       "    </tr>\n",
       "  </tbody>\n",
       "</table>\n",
       "</div>"
      ],
      "text/plain": [
       "        id  cluster_id         type  \\\n",
       "0   103341      103341  010combined   \n",
       "1  9419101      103344      020lead   \n",
       "2  9419102      103344   040dissent   \n",
       "3   103348      103348  010combined   \n",
       "4   103350      103350  010combined   \n",
       "\n",
       "                                       decision_text  date_filed  \\\n",
       "0  In this paper, Justice Black defends the provi...  1940-05-20   \n",
       "1  In this case, the foreign corporations brought...  1940-04-22   \n",
       "2  In this case, Justice Roberts disagrees with t...  1940-04-22   \n",
       "3  In this case, the Court argues that a local la...  1940-05-20   \n",
       "4  In this case, Reed argues that the railroads B...  1940-04-29   \n",
       "\n",
       "   scdb_decision_direction  issue_area  \n",
       "0                      2.0         8.0  \n",
       "1                      2.0         8.0  \n",
       "2                      1.0         8.0  \n",
       "3                      2.0         3.0  \n",
       "4                      1.0         8.0  "
      ]
     },
     "execution_count": 16,
     "metadata": {},
     "output_type": "execute_result"
    }
   ],
   "source": [
    "sum_df.head()"
   ]
  },
  {
   "cell_type": "code",
   "execution_count": null,
   "id": "8e3bb6f9",
   "metadata": {},
   "outputs": [],
   "source": []
  }
 ],
 "metadata": {
  "kernelspec": {
   "display_name": "Python 3 (ipykernel)",
   "language": "python",
   "name": "python3"
  },
  "language_info": {
   "codemirror_mode": {
    "name": "ipython",
    "version": 3
   },
   "file_extension": ".py",
   "mimetype": "text/x-python",
   "name": "python",
   "nbconvert_exporter": "python",
   "pygments_lexer": "ipython3",
   "version": "3.9.10"
  }
 },
 "nbformat": 4,
 "nbformat_minor": 5
}
