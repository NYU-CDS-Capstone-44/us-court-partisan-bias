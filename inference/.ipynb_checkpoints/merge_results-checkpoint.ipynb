{
 "cells": [
  {
   "cell_type": "code",
   "execution_count": 13,
   "id": "05ca1863",
   "metadata": {},
   "outputs": [],
   "source": [
    "import pandas as pd\n",
    "pd.set_option('display.max_columns', None)\n"
   ]
  },
  {
   "cell_type": "code",
   "execution_count": 14,
   "id": "d0c42df3",
   "metadata": {},
   "outputs": [
    {
     "name": "stderr",
     "output_type": "stream",
     "text": [
      "/state/partition1/job-40734034/ipykernel_560502/1927978906.py:1: DtypeWarning: Columns (16,18,19,30,33) have mixed types. Specify dtype option on import or set low_memory=False.\n",
      "  chunk1_partisan = pd.read_csv('/vast/amr10211/visualization_results_legal_BERT_chunk_1-2.csv')\n",
      "/state/partition1/job-40734034/ipykernel_560502/1927978906.py:2: DtypeWarning: Columns (18,19) have mixed types. Specify dtype option on import or set low_memory=False.\n",
      "  chunk2_1_partisan =pd.read_csv('/vast/amr10211/visualization_results_legal_BERT_chunk_2_1-2.csv')\n",
      "/state/partition1/job-40734034/ipykernel_560502/1927978906.py:7: DtypeWarning: Columns (16,18,19,30,33) have mixed types. Specify dtype option on import or set low_memory=False.\n",
      "  chunk5_partisan =pd.read_csv('/vast/amr10211/visualization_results_legal_BERT_chunk_5-2.csv')\n"
     ]
    }
   ],
   "source": [
    "chunk1_partisan = pd.read_csv('/vast/amr10211/visualization_results_legal_BERT_chunk_1-2.csv')\n",
    "chunk2_1_partisan =pd.read_csv('/vast/amr10211/visualization_results_legal_BERT_chunk_2_1-2.csv')\n",
    "chunk2_2_partisan = pd.read_csv('/vast/amr10211/visualization_results_legal_BERT_chunk_2_2-2.csv')\n",
    "chunk3_1_partisan = pd.read_csv('/vast/amr10211/visualization_results_legal_BERT_chunk_3_1-2.csv')\n",
    "chunk3_2_partisan = pd.read_csv('/vast/amr10211/visualization_results_legal_BERT_chunk_3_2-2.csv')\n",
    "chunk4_partisan =pd.read_csv('/vast/amr10211/visualization_results_legal_BERT_chunk_4-2.csv')\n",
    "chunk5_partisan =pd.read_csv('/vast/amr10211/visualization_results_legal_BERT_chunk_5-2.csv')\n"
   ]
  },
  {
   "cell_type": "code",
   "execution_count": 15,
   "id": "5e304526",
   "metadata": {},
   "outputs": [
    {
     "name": "stderr",
     "output_type": "stream",
     "text": [
      "/state/partition1/job-40734034/ipykernel_560502/3347491299.py:1: DtypeWarning: Columns (15,17,18) have mixed types. Specify dtype option on import or set low_memory=False.\n",
      "  chunk1_1_topic = pd.read_csv('/scratch/amh9750/capstone/bert_inference/topic_inference_results_legal_BERT_chunk_1_chunk_1.csv')\n",
      "/state/partition1/job-40734034/ipykernel_560502/3347491299.py:3: DtypeWarning: Columns (17,18) have mixed types. Specify dtype option on import or set low_memory=False.\n",
      "  chunk2_1_topic = pd.read_csv('/scratch/amh9750/capstone/bert_inference/topic_inference_results_legal_BERT_chunk_2_chunk_1.csv')\n",
      "/state/partition1/job-40734034/ipykernel_560502/3347491299.py:9: DtypeWarning: Columns (15,17,18) have mixed types. Specify dtype option on import or set low_memory=False.\n",
      "  chunk5_topic = pd.read_csv('/scratch/amh9750/capstone/bert_inference/topic_inference_results_legal_BERT_chunk_5.csv')\n"
     ]
    }
   ],
   "source": [
    "chunk1_1_topic = pd.read_csv('/scratch/amh9750/capstone/bert_inference/topic_inference_results_legal_BERT_chunk_1_chunk_1.csv')\n",
    "chunk1_2_topic = pd.read_csv('/scratch/amh9750/capstone/bert_inference/topic_inference_results_legal_BERT_chunk_1_chunk_2.csv')\n",
    "chunk2_1_topic = pd.read_csv('/scratch/amh9750/capstone/bert_inference/topic_inference_results_legal_BERT_chunk_2_chunk_1.csv')\n",
    "chunk2_2_topic = pd.read_csv('/scratch/amh9750/capstone/bert_inference/topic_inference_results_legal_BERT_chunk_2_chunk_2.csv')\n",
    "chunk3_1_topic = pd.read_csv('/scratch/amh9750/capstone/bert_inference/topic_inference_results_legal_BERT_chunk_3_chunk_1.csv')\n",
    "chunk3_2_topic = pd.read_csv('/scratch/amh9750/capstone/bert_inference/topic_inference_results_legal_BERT_chunk_3_chunk_2.csv')\n",
    "chunk4_1_topic = pd.read_csv('/scratch/amh9750/capstone/bert_inference/topic_inference_results_legal_BERT_chunk_4_chunk_1.csv')\n",
    "chunk4_2_topic = pd.read_csv('/scratch/amh9750/capstone/bert_inference/topic_inference_results_legal_BERT_chunk_4_chunk_2.csv')\n",
    "chunk5_topic = pd.read_csv('/scratch/amh9750/capstone/bert_inference/topic_inference_results_legal_BERT_chunk_5.csv')\n"
   ]
  },
  {
   "cell_type": "code",
   "execution_count": 16,
   "id": "f3acc74b",
   "metadata": {},
   "outputs": [],
   "source": [
    "# Concat all Partisan Chunks\n",
    "partisan_inference_results_df = pd.concat([\n",
    "    chunk1_partisan,\n",
    "    chunk2_1_partisan,\n",
    "    chunk2_2_partisan,\n",
    "    chunk3_1_partisan,\n",
    "    chunk3_2_partisan,\n",
    "    chunk4_partisan,\n",
    "    chunk5_partisan\n",
    "], ignore_index=True)"
   ]
  },
  {
   "cell_type": "code",
   "execution_count": 17,
   "id": "e4b8bf24",
   "metadata": {},
   "outputs": [],
   "source": [
    "# Concat all Topic Chunks\n",
    "topic_inference_results_df = pd.concat([\n",
    "    chunk1_1_topic,\n",
    "    chunk1_2_topic,\n",
    "    chunk2_1_topic,\n",
    "    chunk2_2_topic,\n",
    "    chunk3_1_topic,\n",
    "    chunk3_2_topic,\n",
    "    chunk4_1_topic,\n",
    "    chunk4_2_topic,\n",
    "    chunk5_topic\n",
    "], ignore_index=True)"
   ]
  },
  {
   "cell_type": "code",
   "execution_count": 18,
   "id": "50427a06",
   "metadata": {},
   "outputs": [
    {
     "data": {
      "text/plain": [
       "Unnamed: 0.1              3743998\n",
       "Unnamed: 0                3743998\n",
       "resource_uri                    0\n",
       "opinion_id                3743998\n",
       "absolute_url                    0\n",
       "cluster_id                3743998\n",
       "cluster                         0\n",
       "author_id                 1113763\n",
       "author                          0\n",
       "joined_by                       0\n",
       "date_created              3743998\n",
       "date_modified             3743998\n",
       "author_str                2858982\n",
       "per_curiam                3743998\n",
       "joined_by_str                   0\n",
       "type                      3743998\n",
       "sha1                      2031195\n",
       "page_count                 374808\n",
       "download_url               562073\n",
       "local_path                 616745\n",
       "extracted_by_ocr          3743998\n",
       "opinions_cited                  0\n",
       "judges                    3725727\n",
       "judge                     3743998\n",
       "date_filed                3743998\n",
       "token_count               3743998\n",
       "predicted_label           3743998\n",
       "probability               3743998\n",
       "docket_id                 3743998\n",
       "id                        2280179\n",
       "court_id                  2280179\n",
       "imputed_author_str        3743998\n",
       "imputed_person_id         2727196\n",
       "imputed_court_id          2616658\n",
       "unique_person_id          3743998\n",
       "year_filed                3743998\n",
       "appointer_id               809439\n",
       "date_start                2478777\n",
       "date_termination          1693000\n",
       "president_id_x             730932\n",
       "president_name             730932\n",
       "imputed_president_id      2477521\n",
       "imputed_president_name    2477521\n",
       "president_id_y            2477521\n",
       "partisanship              2477514\n",
       "dtype: int64"
      ]
     },
     "execution_count": 18,
     "metadata": {},
     "output_type": "execute_result"
    }
   ],
   "source": [
    "partisan_inference_results_df.count()"
   ]
  },
  {
   "cell_type": "code",
   "execution_count": 19,
   "id": "a92c1263",
   "metadata": {},
   "outputs": [],
   "source": [
    "topic_inference_results_df = topic_inference_results_df.rename(columns = {'id':'opinion_id', 'predicted_label':'predicted_topic_label'})\n",
    "topic_inference_results_df = topic_inference_results_df[['opinion_id', 'date_filed', 'predicted_topic_label', 'probability_class_0', 'probability_class_1', 'probability_class_2', 'probability_class_3', 'probability_class_4', 'probability_class_5', 'probability_class_6', 'probability_class_7', 'probability_class_8', 'probability_class_9', 'probability_class_10', 'probability_class_11', 'probability_class_12', 'probability_class_13']]\n",
    "                                                        \n",
    "                                                        "
   ]
  },
  {
   "cell_type": "code",
   "execution_count": 20,
   "id": "aa2f877c",
   "metadata": {},
   "outputs": [
    {
     "data": {
      "text/plain": [
       "opinion_id               3743857\n",
       "date_filed               3743857\n",
       "predicted_topic_label    3743857\n",
       "probability_class_0      3743857\n",
       "probability_class_1      3743857\n",
       "probability_class_2      3743857\n",
       "probability_class_3      3743857\n",
       "probability_class_4      3743857\n",
       "probability_class_5      3743857\n",
       "probability_class_6      3743857\n",
       "probability_class_7      3743857\n",
       "probability_class_8      3743857\n",
       "probability_class_9      3743857\n",
       "probability_class_10     3743857\n",
       "probability_class_11     3743857\n",
       "probability_class_12     3743857\n",
       "probability_class_13     3743857\n",
       "dtype: int64"
      ]
     },
     "execution_count": 20,
     "metadata": {},
     "output_type": "execute_result"
    }
   ],
   "source": [
    "topic_inference_results_df.count()\n"
   ]
  },
  {
   "cell_type": "code",
   "execution_count": 21,
   "id": "613360e1",
   "metadata": {},
   "outputs": [],
   "source": [
    "merged_df = partisan_inference_results_df.merge(topic_inference_results_df, how='inner', on=['opinion_id','date_filed'])\n"
   ]
  },
  {
   "cell_type": "code",
   "execution_count": 22,
   "id": "1cf1f104",
   "metadata": {},
   "outputs": [
    {
     "data": {
      "text/plain": [
       "Unnamed: 0.1              3743998\n",
       "Unnamed: 0                3743998\n",
       "resource_uri                    0\n",
       "opinion_id                3743998\n",
       "absolute_url                    0\n",
       "cluster_id                3743998\n",
       "cluster                         0\n",
       "author_id                 1113763\n",
       "author                          0\n",
       "joined_by                       0\n",
       "date_created              3743998\n",
       "date_modified             3743998\n",
       "author_str                2858982\n",
       "per_curiam                3743998\n",
       "joined_by_str                   0\n",
       "type                      3743998\n",
       "sha1                      2031195\n",
       "page_count                 374808\n",
       "download_url               562073\n",
       "local_path                 616745\n",
       "extracted_by_ocr          3743998\n",
       "opinions_cited                  0\n",
       "judges                    3725727\n",
       "judge                     3743998\n",
       "date_filed                3743998\n",
       "token_count               3743998\n",
       "predicted_label           3743998\n",
       "probability               3743998\n",
       "docket_id                 3743998\n",
       "id                        2280179\n",
       "court_id                  2280179\n",
       "imputed_author_str        3743998\n",
       "imputed_person_id         2727196\n",
       "imputed_court_id          2616658\n",
       "unique_person_id          3743998\n",
       "year_filed                3743998\n",
       "appointer_id               809439\n",
       "date_start                2478777\n",
       "date_termination          1693000\n",
       "president_id_x             730932\n",
       "president_name             730932\n",
       "imputed_president_id      2477521\n",
       "imputed_president_name    2477521\n",
       "president_id_y            2477521\n",
       "partisanship              2477514\n",
       "predicted_topic_label     3743998\n",
       "probability_class_0       3743998\n",
       "probability_class_1       3743998\n",
       "probability_class_2       3743998\n",
       "probability_class_3       3743998\n",
       "probability_class_4       3743998\n",
       "probability_class_5       3743998\n",
       "probability_class_6       3743998\n",
       "probability_class_7       3743998\n",
       "probability_class_8       3743998\n",
       "probability_class_9       3743998\n",
       "probability_class_10      3743998\n",
       "probability_class_11      3743998\n",
       "probability_class_12      3743998\n",
       "probability_class_13      3743998\n",
       "dtype: int64"
      ]
     },
     "execution_count": 22,
     "metadata": {},
     "output_type": "execute_result"
    }
   ],
   "source": [
    "merged_df.count()"
   ]
  },
  {
   "cell_type": "code",
   "execution_count": 23,
   "id": "6eea025a",
   "metadata": {},
   "outputs": [],
   "source": [
    "merged_df.to_csv('/vast/amr10211/inference_partisan_topic_results3.csv')"
   ]
  }
 ],
 "metadata": {
  "kernelspec": {
   "display_name": "Python 3 (ipykernel)",
   "language": "python",
   "name": "python3"
  },
  "language_info": {
   "codemirror_mode": {
    "name": "ipython",
    "version": 3
   },
   "file_extension": ".py",
   "mimetype": "text/x-python",
   "name": "python",
   "nbconvert_exporter": "python",
   "pygments_lexer": "ipython3",
   "version": "3.9.10"
  }
 },
 "nbformat": 4,
 "nbformat_minor": 5
}
