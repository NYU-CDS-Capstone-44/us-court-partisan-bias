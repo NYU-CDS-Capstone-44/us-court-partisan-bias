{
 "cells": [
  {
   "cell_type": "code",
   "execution_count": 1,
   "metadata": {},
   "outputs": [
    {
     "name": "stderr",
     "output_type": "stream",
     "text": [
      "/ext3/miniconda3/lib/python3.9/site-packages/dask_jobqueue/core.py:20: FutureWarning: tmpfile is deprecated and will be removed in a future release. Please use dask.utils.tmpfile instead.\n",
      "  from distributed.utils import tmpfile\n"
     ]
    },
    {
     "data": {
      "application/vnd.jupyter.widget-view+json": {
       "model_id": "5ae0ca83c1b5408ea4a9730e4f402697",
       "version_major": 2,
       "version_minor": 0
      },
      "text/plain": [
       "Tab(children=(HTML(value='<div class=\"jp-RenderedHTMLCommon jp-RenderedHTML jp-mod-trusted jp-OutputArea-outpu…"
      ]
     },
     "metadata": {},
     "output_type": "display_data"
    },
    {
     "data": {
      "text/html": [
       "<div>\n",
       "    <div style=\"width: 24px; height: 24px; background-color: #e1e1e1; border: 3px solid #9D9D9D; border-radius: 5px; position: absolute;\"> </div>\n",
       "    <div style=\"margin-left: 48px;\">\n",
       "        <h3 style=\"margin-bottom: 0px;\">Client</h3>\n",
       "        <p style=\"color: #9D9D9D; margin-bottom: 0px;\">Client-abbb98ef-78bb-11ee-8554-3cfdfe613a14</p>\n",
       "        <table style=\"width: 100%; text-align: left;\">\n",
       "\n",
       "        <tr>\n",
       "        \n",
       "            <td style=\"text-align: left;\"><strong>Connection method:</strong> Cluster object</td>\n",
       "            <td style=\"text-align: left;\"><strong>Cluster type:</strong> dask_jobqueue.SLURMCluster</td>\n",
       "        \n",
       "        </tr>\n",
       "\n",
       "        \n",
       "            <tr>\n",
       "                <td style=\"text-align: left;\">\n",
       "                    <strong>Dashboard: </strong> <a href=\"http://10.32.33.52:8787/status\" target=\"_blank\">http://10.32.33.52:8787/status</a>\n",
       "                </td>\n",
       "                <td style=\"text-align: left;\"></td>\n",
       "            </tr>\n",
       "        \n",
       "\n",
       "        </table>\n",
       "\n",
       "        \n",
       "            <details>\n",
       "            <summary style=\"margin-bottom: 20px;\"><h3 style=\"display: inline;\">Cluster Info</h3></summary>\n",
       "            <div class=\"jp-RenderedHTMLCommon jp-RenderedHTML jp-mod-trusted jp-OutputArea-output\">\n",
       "    <div style=\"width: 24px; height: 24px; background-color: #e1e1e1; border: 3px solid #9D9D9D; border-radius: 5px; position: absolute;\">\n",
       "    </div>\n",
       "    <div style=\"margin-left: 48px;\">\n",
       "        <h3 style=\"margin-bottom: 0px; margin-top: 0px;\">SLURMCluster</h3>\n",
       "        <p style=\"color: #9D9D9D; margin-bottom: 0px;\">bdbfc1b2</p>\n",
       "        <table style=\"width: 100%; text-align: left;\">\n",
       "            <tr>\n",
       "                <td style=\"text-align: left;\">\n",
       "                    <strong>Dashboard:</strong> <a href=\"http://10.32.33.52:8787/status\" target=\"_blank\">http://10.32.33.52:8787/status</a>\n",
       "                </td>\n",
       "                <td style=\"text-align: left;\">\n",
       "                    <strong>Workers:</strong> 0\n",
       "                </td>\n",
       "            </tr>\n",
       "            <tr>\n",
       "                <td style=\"text-align: left;\">\n",
       "                    <strong>Total threads:</strong> 0\n",
       "                </td>\n",
       "                <td style=\"text-align: left;\">\n",
       "                    <strong>Total memory:</strong> 0 B\n",
       "                </td>\n",
       "            </tr>\n",
       "            \n",
       "        </table>\n",
       "\n",
       "        <details>\n",
       "            <summary style=\"margin-bottom: 20px;\">\n",
       "                <h3 style=\"display: inline;\">Scheduler Info</h3>\n",
       "            </summary>\n",
       "\n",
       "            <div style=\"\">\n",
       "    <div>\n",
       "        <div style=\"width: 24px; height: 24px; background-color: #FFF7E5; border: 3px solid #FF6132; border-radius: 5px; position: absolute;\"> </div>\n",
       "        <div style=\"margin-left: 48px;\">\n",
       "            <h3 style=\"margin-bottom: 0px;\">Scheduler</h3>\n",
       "            <p style=\"color: #9D9D9D; margin-bottom: 0px;\">Scheduler-762beb7d-cafb-4ffa-aa4f-1d665b3bdc0f</p>\n",
       "            <table style=\"width: 100%; text-align: left;\">\n",
       "                <tr>\n",
       "                    <td style=\"text-align: left;\">\n",
       "                        <strong>Comm:</strong> tcp://10.32.33.52:33983\n",
       "                    </td>\n",
       "                    <td style=\"text-align: left;\">\n",
       "                        <strong>Workers:</strong> 0\n",
       "                    </td>\n",
       "                </tr>\n",
       "                <tr>\n",
       "                    <td style=\"text-align: left;\">\n",
       "                        <strong>Dashboard:</strong> <a href=\"http://10.32.33.52:8787/status\" target=\"_blank\">http://10.32.33.52:8787/status</a>\n",
       "                    </td>\n",
       "                    <td style=\"text-align: left;\">\n",
       "                        <strong>Total threads:</strong> 0\n",
       "                    </td>\n",
       "                </tr>\n",
       "                <tr>\n",
       "                    <td style=\"text-align: left;\">\n",
       "                        <strong>Started:</strong> Just now\n",
       "                    </td>\n",
       "                    <td style=\"text-align: left;\">\n",
       "                        <strong>Total memory:</strong> 0 B\n",
       "                    </td>\n",
       "                </tr>\n",
       "            </table>\n",
       "        </div>\n",
       "    </div>\n",
       "\n",
       "    <details style=\"margin-left: 48px;\">\n",
       "        <summary style=\"margin-bottom: 20px;\">\n",
       "            <h3 style=\"display: inline;\">Workers</h3>\n",
       "        </summary>\n",
       "\n",
       "        \n",
       "\n",
       "    </details>\n",
       "</div>\n",
       "\n",
       "        </details>\n",
       "    </div>\n",
       "</div>\n",
       "            </details>\n",
       "        \n",
       "\n",
       "    </div>\n",
       "</div>"
      ],
      "text/plain": [
       "<Client: 'tcp://10.32.33.52:33983' processes=0 threads=0, memory=0 B>"
      ]
     },
     "metadata": {},
     "output_type": "display_data"
    }
   ],
   "source": [
    "import os\n",
    "from glob import glob\n",
    "import dask\n",
    "import dask.array as da\n",
    "import dask.bag as db\n",
    "import dask.dataframe as dd\n",
    "from dask import delayed\n",
    "import pandas as pd\n",
    "from distributed import Client\n",
    "from dask_jobqueue import SLURMCluster\n",
    "from IPython.display import display\n",
    "import matplotlib.pyplot as plt\n",
    "import time\n",
    "import numpy as np\n",
    "import pyarrow\n",
    "from dask.diagnostics import ProgressBar\n",
    "import time\n",
    "import csv\n",
    "from tqdm import tqdm\n",
    "import io\n",
    "import sys\n",
    "from dask.diagnostics import ProgressBar\n",
    "\n",
    "\n",
    "\n",
    "\n",
    "# Set LOCAL to True for single-machine execution while developing\n",
    "# Set LOCAL to False for cluster execution\n",
    "LOCAL = False\n",
    "\n",
    "\n",
    "if LOCAL:\n",
    "    # This line creates a single-machine dask client\n",
    "    client = Client()\n",
    "else:    \n",
    "    # This line creates a SLURM cluster dask and dask client\n",
    "    # Logging outputs will be stored in /scratch/{your-netid}\n",
    "    \n",
    "    cluster = SLURMCluster(\n",
    "                           # Memory and core limits should be sufficient here\n",
    "                           memory='64GB', cores=8,\n",
    "\n",
    "                            # Ensure that Dask uses the correct version of Python on the cluster\n",
    "                            python='/scratch/work/public/dask/{}/bin/python'.format(dask.__version__),                           \n",
    "                           \n",
    "                            # Place the output logs in an accessible location\n",
    "                            job_extra=['--export=NONE --output=/scratch/{}/slurm-%j.out'.format(os.environ['SLURM_JOB_USER'])]\n",
    "    )\n",
    "\n",
    "    cluster.submit_command = 'slurm'\n",
    "    cluster.scale(200) \n",
    "\n",
    "    display(cluster)\n",
    "    client = Client(cluster)\n",
    "\n",
    "display(client)\n",
    "\n",
    "\n",
    "\n"
   ]
  },
  {
   "cell_type": "code",
   "execution_count": 3,
   "metadata": {},
   "outputs": [],
   "source": [
    "opinion_schema = {\n",
    "    'resource_uri': 'object',\n",
    "    'id': 'object',\n",
    "    'absolute_url': 'object',\n",
    "    'cluster_id': 'object',\n",
    "    'cluster': 'object',\n",
    "    'author_id': 'object',\n",
    "    'author': 'object',\n",
    "    'joined_by': 'object',\n",
    "    'date_created': 'object',\n",
    "    'date_modified': 'object',\n",
    "    'author_str': 'object',\n",
    "    'per_curiam': 'str',\n",
    "    'joined_by_str': 'object',\n",
    "    'type': 'object',\n",
    "    'sha1': 'object',\n",
    "    'page_count': 'str',\n",
    "    'download_url': 'object',\n",
    "    'local_path': 'object',\n",
    "    'plain_text': 'object',\n",
    "    'html': 'object',\n",
    "    'html_lawbox': 'object',\n",
    "    'html_columbia': 'object',\n",
    "    'html_anon_2020': 'object',\n",
    "    'xml_harvard': 'object',\n",
    "    'html_with_citations': 'object',\n",
    "    'extracted_by_ocr': 'str',\n",
    "    'opinions_cited': 'object'\n",
    "}\n",
    "\n",
    "\n",
    "opinion_clusters_schema = {\n",
    "    \"resource_uri\": \"string\",\n",
    "    \"id\": \"string\",\n",
    "    \"absolute_url\": \"string\",\n",
    "    \"panel\": \"string\",\n",
    "    \"non_participating_judges\": \"string\",\n",
    "    \"docket_id\": \"string\",\n",
    "    \"docket\": \"string\",\n",
    "    \"sub_opinions\": \"string\",\n",
    "    \"citations\": \"string\",\n",
    "    \"date_created\": \"string\",\n",
    "    \"date_modified\": \"string\",\n",
    "    \"judges\": \"string\",\n",
    "    \"date_filed\": \"string\",\n",
    "    \"date_filed_is_approximate\": \"string\",\n",
    "    \"slug\": \"string\",\n",
    "    \"case_name_short\": \"string\",\n",
    "    \"case_name\": \"string\",\n",
    "    \"case_name_full\": \"string\",\n",
    "    \"scdb_id\": \"string\",\n",
    "    \"scdb_decision_direction\": \"string\",\n",
    "    \"scdb_votes_majority\": \"string\",\n",
    "    \"scdb_votes_minority\": \"string\",\n",
    "    \"source\": \"string\",\n",
    "    \"procedural_history\": \"string\",\n",
    "    \"attorneys\": \"string\",\n",
    "    \"nature_of_suit\": \"string\",\n",
    "    \"posture\": \"string\",\n",
    "    \"syllabus\": \"string\",\n",
    "    \"headnotes\": \"string\",\n",
    "    \"summary\": \"string\",\n",
    "    \"disposition\": \"string\",\n",
    "    \"history\": \"string\",\n",
    "    \"other_dates\": \"string\",\n",
    "    \"cross_reference\": \"string\",\n",
    "    \"correction\": \"string\",\n",
    "    \"citation_count\": \"int\",\n",
    "    \"precedential_status\": \"string\",\n",
    "    \"date_blocked\": \"string\",\n",
    "    \"blocked\": \"string\",\n",
    "    \"filepath_json_harvard\": \"string\",\n",
    "    \"arguments\": \"string\",\n",
    "    \"headmatter\": \"string\"\n",
    "}\n"
   ]
  },
  {
   "cell_type": "code",
   "execution_count": 5,
   "metadata": {},
   "outputs": [
    {
     "name": "stderr",
     "output_type": "stream",
     "text": [
      "8961877it [02:15, 65948.61it/s] \n"
     ]
    }
   ],
   "source": [
    "#Write Cluster Data\n",
    "pd.set_option('display.max_columns', None)\n",
    "pd.set_option('display.max_colwidth', None)\n",
    "csv.field_size_limit(sys.maxsize)\n",
    "\n",
    "input_csv_file = '/vast/amr10211/opinions-cluster-data.csv' #Update File Path\n",
    "output_csv_file = '/vast/amr10211/opinions-cluster-data-sc.csv' #Update File Path\n",
    "\n",
    "# Create a new CSV file for writing\n",
    "with open(output_csv_file, 'w', newline='', encoding='latin1') as csvfile:\n",
    "    # Define the fieldnames for your CSV\n",
    "    fieldnames = list(opinion_clusters_schema.keys())\n",
    "\n",
    "    writer = csv.DictWriter(csvfile, fieldnames=fieldnames)\n",
    "    writer.writeheader()\n",
    "\n",
    "    with open(input_csv_file, 'r', encoding='latin1') as f:\n",
    "        reader = csv.DictReader(f)\n",
    "\n",
    "        for i, sentence in enumerate(tqdm(reader)):\n",
    "            if sentence['scdb_id'] != \"\":\n",
    "                # Write the filtered row to the new CSV file\n",
    "                writer.writerow(sentence)\n",
    "#             if i == 1000000:\n",
    "#                 break"
   ]
  },
  {
   "cell_type": "code",
   "execution_count": 13,
   "metadata": {},
   "outputs": [],
   "source": [
    "#Get Cluster Data\n",
    "cluster_df = pd.read_csv('/vast/amr10211/opinions-cluster-data-sc.csv') #Update File Path"
   ]
  },
  {
   "cell_type": "code",
   "execution_count": 14,
   "metadata": {},
   "outputs": [],
   "source": [
    "# Extract values of 'id' from the dictionaries in 'cluster_df'\n",
    "supreme_court_case_cluster_ids = cluster_df['id'].tolist()"
   ]
  },
  {
   "cell_type": "code",
   "execution_count": 14,
   "metadata": {},
   "outputs": [
    {
     "name": "stderr",
     "output_type": "stream",
     "text": [
      "9592141it [1:30:01, 1775.70it/s]\n"
     ]
    }
   ],
   "source": [
    "#Filter and Write Opinion Data\n",
    "pd.set_option('display.max_columns', None)\n",
    "pd.set_option('display.max_colwidth', None)\n",
    "csv.field_size_limit(sys.maxsize)\n",
    "\n",
    "input_csv_file = '/vast/amr10211/opinions-data.csv' #Update File Path\n",
    "output_csv_file = '/vast/amr10211/opinions-data-sc.csv' #Update File Path\n",
    "\n",
    "# Create a new CSV file for writing\n",
    "with open(output_csv_file, 'w', newline='', encoding='latin1') as csvfile:\n",
    "    # Define the fieldnames for your CSV\n",
    "    fieldnames = list(opinion_schema.keys())\n",
    "\n",
    "    writer = csv.DictWriter(csvfile, fieldnames=fieldnames)\n",
    "    writer.writeheader()\n",
    "\n",
    "    with open(input_csv_file, 'r', encoding='latin1') as f:\n",
    "        reader = csv.DictReader(f)\n",
    "\n",
    "        for i, sentence in enumerate(tqdm(reader)):\n",
    "            if sentence['cluster_id'] in supreme_court_case_cluster_ids:\n",
    "                # Write the filtered row to the new CSV file\n",
    "                writer.writerow(sentence)\n",
    "            # if i == 1000000:\n",
    "            #     break\n"
   ]
  },
  {
   "cell_type": "code",
   "execution_count": 5,
   "metadata": {},
   "outputs": [],
   "source": [
    "#Get SC Opinion Data\n",
    "filtered_df = pd.read_csv('/vast/amr10211/opinions-data-sc.csv', dtype = opinion_schema) #Update File Path"
   ]
  },
  {
   "cell_type": "code",
   "execution_count": 6,
   "metadata": {},
   "outputs": [
    {
     "data": {
      "text/plain": [
       "(45508, 27)"
      ]
     },
     "execution_count": 6,
     "metadata": {},
     "output_type": "execute_result"
    }
   ],
   "source": [
    "filtered_df.shape"
   ]
  },
  {
   "cell_type": "code",
   "execution_count": 7,
   "metadata": {},
   "outputs": [
    {
     "data": {
      "text/plain": [
       "resource_uri               0\n",
       "id                     45508\n",
       "absolute_url               0\n",
       "cluster_id             45508\n",
       "cluster                    0\n",
       "author_id              21989\n",
       "author                     0\n",
       "joined_by                  0\n",
       "date_created           45508\n",
       "date_modified          45508\n",
       "author_str             34550\n",
       "per_curiam             45508\n",
       "joined_by_str              0\n",
       "type                   45508\n",
       "sha1                   28111\n",
       "page_count              1099\n",
       "download_url            3444\n",
       "local_path              1103\n",
       "plain_text              1099\n",
       "html                   26459\n",
       "html_lawbox            25484\n",
       "html_columbia              0\n",
       "html_anon_2020             0\n",
       "xml_harvard            35053\n",
       "html_with_citations    28106\n",
       "extracted_by_ocr       45508\n",
       "opinions_cited             0\n",
       "dtype: int64"
      ]
     },
     "execution_count": 7,
     "metadata": {},
     "output_type": "execute_result"
    }
   ],
   "source": [
    "filtered_df.count()"
   ]
  },
  {
   "cell_type": "code",
   "execution_count": 21,
   "metadata": {},
   "outputs": [
    {
     "name": "stdout",
     "output_type": "stream",
     "text": [
      "html vs xml_harvard\n",
      "Rows where one column is null while the other is populated: 27268\n",
      "Rows where both columns are null: 1118\n",
      "Rows where both columns are populated: 17122\n"
     ]
    }
   ],
   "source": [
    "# Assuming your data is in a DataFrame named filtered_df\n",
    "\n",
    "columns_to_check =['html', 'xml_harvard'] #['plain_text', 'html', 'html_lawbox', 'xml_harvard', 'html_with_citations']\n",
    "                  \n",
    "# Create boolean masks to identify null values\n",
    "null_masks = filtered_df[columns_to_check].isnull()\n",
    "\n",
    "# Check if any one column is null while the others are populated\n",
    "one_null_others_not = null_masks.sum(axis=1) == 1\n",
    "\n",
    "# Check if all columns are null\n",
    "all_null = null_masks.all(axis=1)\n",
    "\n",
    "# Check if all columns are populated\n",
    "all_populated = null_masks.sum(axis=1) == 0\n",
    "\n",
    "# Check conditions and count occurrences\n",
    "count_one_null_others_not = one_null_others_not.sum()\n",
    "count_all_null = all_null.sum()\n",
    "count_all_populated = all_populated.sum()\n",
    "\n",
    "print(columns_to_check[0],'vs',columns_to_check[1])\n",
    "print(f\"Rows where one column is null while the other is populated: {count_one_null_others_not}\")\n",
    "print(f\"Rows where both columns are null: {count_all_null}\")\n",
    "print(f\"Rows where both columns are populated: {count_all_populated}\")"
   ]
  },
  {
   "cell_type": "code",
   "execution_count": 22,
   "metadata": {},
   "outputs": [
    {
     "name": "stdout",
     "output_type": "stream",
     "text": [
      "All text fields: ['plain_text', 'html', 'html_lawbox', 'xml_harvard', 'html_with_citations']\n",
      "Rows where one column is null while the others are populated: 16116\n",
      "Rows where all columns are null: 4\n",
      "Rows where all columns are populated: 0\n"
     ]
    }
   ],
   "source": [
    "# Assuming your data is in a DataFrame named filtered_df\n",
    "\n",
    "columns_to_check = ['plain_text', 'html', 'html_lawbox', 'xml_harvard', 'html_with_citations']\n",
    "                  \n",
    "# Create boolean masks to identify null values\n",
    "null_masks = filtered_df[columns_to_check].isnull()\n",
    "\n",
    "# Check if any one column is null while the others are populated\n",
    "one_null_others_not = null_masks.sum(axis=1) == 1\n",
    "\n",
    "# Check if all columns are null\n",
    "all_null = null_masks.all(axis=1)\n",
    "\n",
    "# Check if all columns are populated\n",
    "all_populated = null_masks.sum(axis=1) == 0\n",
    "\n",
    "# Check conditions and count occurrences\n",
    "count_one_null_others_not = one_null_others_not.sum()\n",
    "count_all_null = all_null.sum()\n",
    "count_all_populated = all_populated.sum()\n",
    "\n",
    "print('All text fields:', columns_to_check)\n",
    "print(f\"Rows where one column is null while the others are populated: {count_one_null_others_not}\")\n",
    "print(f\"Rows where all columns are null: {count_all_null}\")\n",
    "print(f\"Rows where all columns are populated: {count_all_populated}\")"
   ]
  },
  {
   "cell_type": "code",
   "execution_count": 17,
   "metadata": {},
   "outputs": [],
   "source": [
    "#Get Cluster Data\n",
    "cluster_df = pd.read_csv('/vast/amr10211/opinions-cluster-data-sc.csv') #Update File Path"
   ]
  },
  {
   "cell_type": "code",
   "execution_count": 18,
   "metadata": {},
   "outputs": [
    {
     "data": {
      "text/plain": [
       "(28111, 42)"
      ]
     },
     "execution_count": 18,
     "metadata": {},
     "output_type": "execute_result"
    }
   ],
   "source": [
    "cluster_df.shape"
   ]
  },
  {
   "cell_type": "code",
   "execution_count": 19,
   "metadata": {},
   "outputs": [
    {
     "data": {
      "text/plain": [
       "resource_uri                     0\n",
       "id                           28111\n",
       "absolute_url                     0\n",
       "panel                            0\n",
       "non_participating_judges         0\n",
       "docket_id                    28111\n",
       "docket                           0\n",
       "sub_opinions                     0\n",
       "citations                        0\n",
       "date_created                 28111\n",
       "date_modified                28111\n",
       "judges                       26941\n",
       "date_filed                   28111\n",
       "date_filed_is_approximate    28111\n",
       "slug                         28111\n",
       "case_name_short              22086\n",
       "case_name                    28111\n",
       "case_name_full               24433\n",
       "scdb_id                      28111\n",
       "scdb_decision_direction      28100\n",
       "scdb_votes_majority          28111\n",
       "scdb_votes_minority          28111\n",
       "source                       28111\n",
       "procedural_history               0\n",
       "attorneys                    23455\n",
       "nature_of_suit                   0\n",
       "posture                          0\n",
       "syllabus                      8409\n",
       "headnotes                     4058\n",
       "summary                      12468\n",
       "disposition                    202\n",
       "history                       1919\n",
       "other_dates                  18474\n",
       "cross_reference                 69\n",
       "correction                       3\n",
       "citation_count               28111\n",
       "precedential_status          28111\n",
       "date_blocked                     2\n",
       "blocked                      28111\n",
       "filepath_json_harvard        26645\n",
       "arguments                     2303\n",
       "headmatter                   24415\n",
       "dtype: int64"
      ]
     },
     "execution_count": 19,
     "metadata": {},
     "output_type": "execute_result"
    }
   ],
   "source": [
    "cluster_df.count()"
   ]
  },
  {
   "cell_type": "code",
   "execution_count": 21,
   "metadata": {},
   "outputs": [
    {
     "data": {
      "text/plain": [
       "scdb_decision_direction\n",
       "1.0    11625\n",
       "2.0    12764\n",
       "3.0     3711\n",
       "Name: scdb_decision_direction, dtype: int64"
      ]
     },
     "execution_count": 21,
     "metadata": {},
     "output_type": "execute_result"
    }
   ],
   "source": [
    "cluster_df['scdb_decision_direction'].groupby(cluster_df['scdb_decision_direction']).count()"
   ]
  },
  {
   "cell_type": "code",
   "execution_count": null,
   "metadata": {},
   "outputs": [],
   "source": []
  }
 ],
 "metadata": {
  "kernelspec": {
   "display_name": "Python 3 (ipykernel)",
   "language": "python",
   "name": "python3"
  },
  "language_info": {
   "codemirror_mode": {
    "name": "ipython",
    "version": 3
   },
   "file_extension": ".py",
   "mimetype": "text/x-python",
   "name": "python",
   "nbconvert_exporter": "python",
   "pygments_lexer": "ipython3",
   "version": "3.9.10"
  }
 },
 "nbformat": 4,
 "nbformat_minor": 4
}
