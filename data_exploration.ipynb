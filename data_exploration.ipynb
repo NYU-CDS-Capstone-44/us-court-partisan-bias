{
 "cells": [
  {
   "cell_type": "code",
   "execution_count": 1,
   "id": "3daada7d-b044-4350-a375-7b1f3f7b39ee",
   "metadata": {},
   "outputs": [
    {
     "name": "stderr",
     "output_type": "stream",
     "text": [
      "/ext3/miniconda3/lib/python3.9/site-packages/scipy/__init__.py:146: UserWarning: A NumPy version >=1.17.3 and <1.25.0 is required for this version of SciPy (detected version 1.26.1\n",
      "  warnings.warn(f\"A NumPy version >={np_minversion} and <{np_maxversion}\"\n"
     ]
    }
   ],
   "source": [
    "import pandas as pd\n",
    "import numpy as np\n",
    "from gensim.models import Word2Vec\n",
    "import time\n",
    "import nltk\n",
    "from nltk import word_tokenize\n",
    "from tqdm import tqdm\n",
    "from tqdm.notebook import tqdm\n",
    "from IPython.display import display\n",
    "import matplotlib.pyplot as plt\n",
    "import numpy as np\n",
    "pd.set_option('display.max_columns', None)\n",
    "pd.set_option('display.max_colwidth', None)\n",
    " \n",
    "tqdm.pandas()\n",
    "\n",
    "import warnings as wrn\n",
    "wrn.filterwarnings('ignore')"
   ]
  },
  {
   "cell_type": "code",
   "execution_count": 2,
   "id": "e97beaa8-e1bd-4def-8bd8-2978b2d4bb4a",
   "metadata": {},
   "outputs": [],
   "source": [
    "train = pd.read_csv('/vast/amr10211/sc-train.csv')\n",
    "val = pd.read_csv('/vast/amr10211/sc-val.csv')\n",
    "test = pd.read_csv('/vast/amr10211/sc-test.csv')"
   ]
  },
  {
   "cell_type": "code",
   "execution_count": 3,
   "id": "9d23a8b7-159f-44d6-a633-e4384ae74ea9",
   "metadata": {},
   "outputs": [],
   "source": [
    "all_text = list(train['decision_text'])+list(val['decision_text'])+list(test['decision_text'])"
   ]
  },
  {
   "cell_type": "code",
   "execution_count": 4,
   "id": "98e62886-bbf4-47f4-a145-c4e46dbfbcaa",
   "metadata": {},
   "outputs": [],
   "source": [
    "length_list = [len(text) for text in all_text]\n"
   ]
  },
  {
   "cell_type": "code",
   "execution_count": 7,
   "id": "d07840a9-afe9-4d87-b5d8-74b5b3d96c30",
   "metadata": {},
   "outputs": [
    {
     "data": {
      "text/plain": [
       "26312.55307473983"
      ]
     },
     "execution_count": 7,
     "metadata": {},
     "output_type": "execute_result"
    }
   ],
   "source": [
    "np.mean(length_list)"
   ]
  },
  {
   "cell_type": "code",
   "execution_count": 8,
   "id": "4cf0143b-1c67-4604-aa3b-2c80e94debbd",
   "metadata": {},
   "outputs": [
    {
     "data": {
      "text/plain": [
       "534940"
      ]
     },
     "execution_count": 8,
     "metadata": {},
     "output_type": "execute_result"
    }
   ],
   "source": [
    "np.max(length_list)"
   ]
  },
  {
   "cell_type": "code",
   "execution_count": 9,
   "id": "078f6954-3e9d-42d4-97a5-ff6e04678532",
   "metadata": {},
   "outputs": [
    {
     "data": {
      "text/plain": [
       "18"
      ]
     },
     "execution_count": 9,
     "metadata": {},
     "output_type": "execute_result"
    }
   ],
   "source": [
    "np.min(length_list)"
   ]
  },
  {
   "cell_type": "code",
   "execution_count": 10,
   "id": "1bcb8c7f-8e9a-481f-84fb-1e686306c4ec",
   "metadata": {},
   "outputs": [
    {
     "data": {
      "image/png": "[encoded data removed]",
      "text/plain": [
       "<Figure size 720x504 with 1 Axes>"
      ]
     },
     "metadata": {
      "needs_background": "light"
     },
     "output_type": "display_data"
    }
   ],
   "source": [
    "\n",
    " \n",
    "# Creating dataset\n",
    "np.random.seed(10)\n",
    "data = length_list\n",
    " \n",
    "fig = plt.figure(figsize =(10, 7))\n",
    " \n",
    "# Creating plot\n",
    "plt.boxplot(data)\n",
    " \n",
    "# show plot\n",
    "plt.show()"
   ]
  },
  {
   "cell_type": "code",
   "execution_count": 11,
   "id": "631fc4cc-672b-43ed-83ab-5075247e6a5e",
   "metadata": {},
   "outputs": [],
   "source": [
    "all_df = pd.concat([train,val,test], axis=0)\n"
   ]
  },
  {
   "cell_type": "code",
   "execution_count": 15,
   "id": "71461280-0861-424c-b03e-644d692417a5",
   "metadata": {},
   "outputs": [],
   "source": [
    "all_df['text_length'] = length_list"
   ]
  },
  {
   "cell_type": "code",
   "execution_count": 16,
   "id": "2213a1d9-a610-4203-a020-5ab379e449e6",
   "metadata": {},
   "outputs": [
    {
     "data": {
      "text/html": [
       "<div>\n",
       "<style scoped>\n",
       "    .dataframe tbody tr th:only-of-type {\n",
       "        vertical-align: middle;\n",
       "    }\n",
       "\n",
       "    .dataframe tbody tr th {\n",
       "        vertical-align: top;\n",
       "    }\n",
       "\n",
       "    .dataframe thead th {\n",
       "        text-align: right;\n",
       "    }\n",
       "</style>\n",
       "<table border=\"1\" class=\"dataframe\">\n",
       "  <thead>\n",
       "    <tr style=\"text-align: right;\">\n",
       "      <th></th>\n",
       "      <th>Unnamed: 0</th>\n",
       "      <th>id</th>\n",
       "      <th>cluster_id</th>\n",
       "      <th>type</th>\n",
       "      <th>decision_text</th>\n",
       "      <th>date_filed</th>\n",
       "      <th>scdb_decision_direction</th>\n",
       "      <th>text_length</th>\n",
       "    </tr>\n",
       "  </thead>\n",
       "  <tbody>\n",
       "    <tr>\n",
       "      <th>0</th>\n",
       "      <td>3</td>\n",
       "      <td>103341</td>\n",
       "      <td>103341</td>\n",
       "      <td>010combined</td>\n",
       "      <td>\\n\\n \\n   *18\\n   \\n  MR. Justice Black\\n \\n\\n...</td>\n",
       "      <td>1940-05-20</td>\n",
       "      <td>2.0</td>\n",
       "      <td>28399</td>\n",
       "    </tr>\n",
       "    <tr>\n",
       "      <th>1</th>\n",
       "      <td>5</td>\n",
       "      <td>103343</td>\n",
       "      <td>103343</td>\n",
       "      <td>010combined</td>\n",
       "      <td>\\n\\n  Me. Justice Reed\\n \\n\\n  delivered the o...</td>\n",
       "      <td>1940-04-22</td>\n",
       "      <td>2.0</td>\n",
       "      <td>21121</td>\n",
       "    </tr>\n",
       "    <tr>\n",
       "      <th>2</th>\n",
       "      <td>6</td>\n",
       "      <td>9419101</td>\n",
       "      <td>103344</td>\n",
       "      <td>020lead</td>\n",
       "      <td>\\n*58Mr. Justice Frankfurter\\ndelivered the op...</td>\n",
       "      <td>1940-04-22</td>\n",
       "      <td>2.0</td>\n",
       "      <td>19141</td>\n",
       "    </tr>\n",
       "    <tr>\n",
       "      <th>3</th>\n",
       "      <td>7</td>\n",
       "      <td>9419102</td>\n",
       "      <td>103344</td>\n",
       "      <td>040dissent</td>\n",
       "      <td>\\nMr. Justice Roberts,\\ndissenting:\\nI am unab...</td>\n",
       "      <td>1940-04-22</td>\n",
       "      <td>1.0</td>\n",
       "      <td>3374</td>\n",
       "    </tr>\n",
       "    <tr>\n",
       "      <th>4</th>\n",
       "      <td>11</td>\n",
       "      <td>103348</td>\n",
       "      <td>103348</td>\n",
       "      <td>010combined</td>\n",
       "      <td>\\n\\n \\n   *109\\n   \\n  Mr. Justice Murphy\\n \\n...</td>\n",
       "      <td>1940-05-20</td>\n",
       "      <td>2.0</td>\n",
       "      <td>9481</td>\n",
       "    </tr>\n",
       "    <tr>\n",
       "      <th>...</th>\n",
       "      <td>...</td>\n",
       "      <td>...</td>\n",
       "      <td>...</td>\n",
       "      <td>...</td>\n",
       "      <td>...</td>\n",
       "      <td>...</td>\n",
       "      <td>...</td>\n",
       "      <td>...</td>\n",
       "    </tr>\n",
       "    <tr>\n",
       "      <th>2613</th>\n",
       "      <td>26815</td>\n",
       "      <td>103037</td>\n",
       "      <td>103037</td>\n",
       "      <td>010combined</td>\n",
       "      <td>\\n304 U.S. 307 (1938)\\nJ.D. ADAMS MANUFACTURIN...</td>\n",
       "      <td>1938-05-16</td>\n",
       "      <td>1.0</td>\n",
       "      <td>51526</td>\n",
       "    </tr>\n",
       "    <tr>\n",
       "      <th>2614</th>\n",
       "      <td>26821</td>\n",
       "      <td>102807</td>\n",
       "      <td>102807</td>\n",
       "      <td>010combined</td>\n",
       "      <td>\\n301 U.S. 103 (1937)\\nASSOCIATED PRESS\\nv.\\nN...</td>\n",
       "      <td>1937-04-12</td>\n",
       "      <td>2.0</td>\n",
       "      <td>38033</td>\n",
       "    </tr>\n",
       "    <tr>\n",
       "      <th>2615</th>\n",
       "      <td>26848</td>\n",
       "      <td>109339</td>\n",
       "      <td>109339</td>\n",
       "      <td>010combined</td>\n",
       "      <td>\\n\\n  Mr. Justice Marshall\\n \\n\\n  delivered t...</td>\n",
       "      <td>1976-01-13</td>\n",
       "      <td>1.0</td>\n",
       "      <td>20289</td>\n",
       "    </tr>\n",
       "    <tr>\n",
       "      <th>2616</th>\n",
       "      <td>26868</td>\n",
       "      <td>104473</td>\n",
       "      <td>104473</td>\n",
       "      <td>010combined</td>\n",
       "      <td>\\n332 U.S. 392 (1947)\\nINTERNATIONAL SALT CO.,...</td>\n",
       "      <td>1947-11-17</td>\n",
       "      <td>2.0</td>\n",
       "      <td>26917</td>\n",
       "    </tr>\n",
       "    <tr>\n",
       "      <th>2617</th>\n",
       "      <td>26876</td>\n",
       "      <td>110126</td>\n",
       "      <td>110126</td>\n",
       "      <td>010combined</td>\n",
       "      <td>\\n443 U.S. 1 (1979)\\nMACKEY, REGISTRAR OF MOTO...</td>\n",
       "      <td>1979-06-25</td>\n",
       "      <td>1.0</td>\n",
       "      <td>57684</td>\n",
       "    </tr>\n",
       "  </tbody>\n",
       "</table>\n",
       "<p>26425 rows × 8 columns</p>\n",
       "</div>"
      ],
      "text/plain": [
       "      Unnamed: 0       id  cluster_id         type  \\\n",
       "0              3   103341      103341  010combined   \n",
       "1              5   103343      103343  010combined   \n",
       "2              6  9419101      103344      020lead   \n",
       "3              7  9419102      103344   040dissent   \n",
       "4             11   103348      103348  010combined   \n",
       "...          ...      ...         ...          ...   \n",
       "2613       26815   103037      103037  010combined   \n",
       "2614       26821   102807      102807  010combined   \n",
       "2615       26848   109339      109339  010combined   \n",
       "2616       26868   104473      104473  010combined   \n",
       "2617       26876   110126      110126  010combined   \n",
       "\n",
       "                                          decision_text  date_filed  \\\n",
       "0     \\n\\n \\n   *18\\n   \\n  MR. Justice Black\\n \\n\\n...  1940-05-20   \n",
       "1     \\n\\n  Me. Justice Reed\\n \\n\\n  delivered the o...  1940-04-22   \n",
       "2     \\n*58Mr. Justice Frankfurter\\ndelivered the op...  1940-04-22   \n",
       "3     \\nMr. Justice Roberts,\\ndissenting:\\nI am unab...  1940-04-22   \n",
       "4     \\n\\n \\n   *109\\n   \\n  Mr. Justice Murphy\\n \\n...  1940-05-20   \n",
       "...                                                 ...         ...   \n",
       "2613  \\n304 U.S. 307 (1938)\\nJ.D. ADAMS MANUFACTURIN...  1938-05-16   \n",
       "2614  \\n301 U.S. 103 (1937)\\nASSOCIATED PRESS\\nv.\\nN...  1937-04-12   \n",
       "2615  \\n\\n  Mr. Justice Marshall\\n \\n\\n  delivered t...  1976-01-13   \n",
       "2616  \\n332 U.S. 392 (1947)\\nINTERNATIONAL SALT CO.,...  1947-11-17   \n",
       "2617  \\n443 U.S. 1 (1979)\\nMACKEY, REGISTRAR OF MOTO...  1979-06-25   \n",
       "\n",
       "      scdb_decision_direction  text_length  \n",
       "0                         2.0        28399  \n",
       "1                         2.0        21121  \n",
       "2                         2.0        19141  \n",
       "3                         1.0         3374  \n",
       "4                         2.0         9481  \n",
       "...                       ...          ...  \n",
       "2613                      1.0        51526  \n",
       "2614                      2.0        38033  \n",
       "2615                      1.0        20289  \n",
       "2616                      2.0        26917  \n",
       "2617                      1.0        57684  \n",
       "\n",
       "[26425 rows x 8 columns]"
      ]
     },
     "execution_count": 16,
     "metadata": {},
     "output_type": "execute_result"
    }
   ],
   "source": [
    "all_df"
   ]
  },
  {
   "cell_type": "code",
   "execution_count": 14,
   "id": "28a50c69-2882-4b74-ac13-bcf93bdbf738",
   "metadata": {},
   "outputs": [
    {
     "data": {
      "image/png": "[encoded data removed]",
      "text/plain": [
       "<Figure size 432x288 with 1 Axes>"
      ]
     },
     "metadata": {
      "needs_background": "light"
     },
     "output_type": "display_data"
    }
   ],
   "source": [
    "plt.hist(, bins=100);"
   ]
  },
  {
   "cell_type": "code",
   "execution_count": 22,
   "id": "e0c46000-83a9-41a5-bf31-1e7f34a7269c",
   "metadata": {},
   "outputs": [
    {
     "data": {
      "text/plain": [
       "[<matplotlib.lines.Line2D at 0x14f62311be80>]"
      ]
     },
     "execution_count": 22,
     "metadata": {},
     "output_type": "execute_result"
    },
    {
     "data": {
      "image/png": "[encoded data removed]",
      "text/plain": [
       "<Figure size 432x288 with 1 Axes>"
      ]
     },
     "metadata": {
      "needs_background": "light"
     },
     "output_type": "display_data"
    }
   ],
   "source": [
    "plt.plot(pd.to_datetime(all_df['date_filed']).dt.year,all_df['text_length'],'o')"
   ]
  },
  {
   "cell_type": "code",
   "execution_count": 23,
   "id": "579c1435-7b47-4fc2-a011-c42609b753a7",
   "metadata": {},
   "outputs": [
    {
     "data": {
      "text/plain": [
       "18338.0"
      ]
     },
     "execution_count": 23,
     "metadata": {},
     "output_type": "execute_result"
    }
   ],
   "source": [
    "np.median(length_list)"
   ]
  },
  {
   "cell_type": "code",
   "execution_count": 27,
   "id": "75db3244-7e1b-47c8-9fe1-b32c9c0f8cd6",
   "metadata": {},
   "outputs": [
    {
     "data": {
      "text/html": [
       "<div>\n",
       "<style scoped>\n",
       "    .dataframe tbody tr th:only-of-type {\n",
       "        vertical-align: middle;\n",
       "    }\n",
       "\n",
       "    .dataframe tbody tr th {\n",
       "        vertical-align: top;\n",
       "    }\n",
       "\n",
       "    .dataframe thead th {\n",
       "        text-align: right;\n",
       "    }\n",
       "</style>\n",
       "<table border=\"1\" class=\"dataframe\">\n",
       "  <thead>\n",
       "    <tr style=\"text-align: right;\">\n",
       "      <th></th>\n",
       "      <th>Unnamed: 0</th>\n",
       "      <th>id</th>\n",
       "      <th>cluster_id</th>\n",
       "      <th>type</th>\n",
       "      <th>decision_text</th>\n",
       "      <th>date_filed</th>\n",
       "      <th>scdb_decision_direction</th>\n",
       "      <th>text_length</th>\n",
       "    </tr>\n",
       "  </thead>\n",
       "  <tbody>\n",
       "    <tr>\n",
       "      <th>17561</th>\n",
       "      <td>22372</td>\n",
       "      <td>109380</td>\n",
       "      <td>109380</td>\n",
       "      <td>010combined</td>\n",
       "      <td>\\n424 U.S. 1 (1976)\\nBUCKLEY ET AL.\\nv.\\nVALEO...</td>\n",
       "      <td>1976-02-27</td>\n",
       "      <td>2.0</td>\n",
       "      <td>534940</td>\n",
       "    </tr>\n",
       "    <tr>\n",
       "      <th>19956</th>\n",
       "      <td>25446</td>\n",
       "      <td>131149</td>\n",
       "      <td>131149</td>\n",
       "      <td>010combined</td>\n",
       "      <td>\\n540 U.S. 93 (2003)\\nMcCONNELL, UNITED STATES...</td>\n",
       "      <td>2003-12-10</td>\n",
       "      <td>2.0</td>\n",
       "      <td>525918</td>\n",
       "    </tr>\n",
       "    <tr>\n",
       "      <th>2379</th>\n",
       "      <td>23622</td>\n",
       "      <td>108605</td>\n",
       "      <td>108605</td>\n",
       "      <td>010combined</td>\n",
       "      <td>\\n408 U.S. 238 (1972)\\nFURMAN\\nv.\\nGEORGIA.\\nN...</td>\n",
       "      <td>1972-06-29</td>\n",
       "      <td>2.0</td>\n",
       "      <td>461262</td>\n",
       "    </tr>\n",
       "    <tr>\n",
       "      <th>2018</th>\n",
       "      <td>19791</td>\n",
       "      <td>149702</td>\n",
       "      <td>149702</td>\n",
       "      <td>010combined</td>\n",
       "      <td>(Slip Opinion)              OCTOBER TERM, 2009...</td>\n",
       "      <td>2010-06-28</td>\n",
       "      <td>1.0</td>\n",
       "      <td>459668</td>\n",
       "    </tr>\n",
       "    <tr>\n",
       "      <th>18690</th>\n",
       "      <td>23833</td>\n",
       "      <td>809122</td>\n",
       "      <td>809122</td>\n",
       "      <td>010combined</td>\n",
       "      <td>(Slip Opinion)              OCTOBER TERM, 2011...</td>\n",
       "      <td>2012-06-28</td>\n",
       "      <td>2.0</td>\n",
       "      <td>408240</td>\n",
       "    </tr>\n",
       "    <tr>\n",
       "      <th>...</th>\n",
       "      <td>...</td>\n",
       "      <td>...</td>\n",
       "      <td>...</td>\n",
       "      <td>...</td>\n",
       "      <td>...</td>\n",
       "      <td>...</td>\n",
       "      <td>...</td>\n",
       "      <td>...</td>\n",
       "    </tr>\n",
       "    <tr>\n",
       "      <th>13181</th>\n",
       "      <td>16857</td>\n",
       "      <td>9435158</td>\n",
       "      <td>145777</td>\n",
       "      <td>040dissent</td>\n",
       "      <td>\\n*681Justice Breyer, with whom Justice Steven...</td>\n",
       "      <td>2008-06-26</td>\n",
       "      <td>1.0</td>\n",
       "      <td>56</td>\n",
       "    </tr>\n",
       "    <tr>\n",
       "      <th>9408</th>\n",
       "      <td>11976</td>\n",
       "      <td>9428071</td>\n",
       "      <td>110337</td>\n",
       "      <td>030concurrence</td>\n",
       "      <td>\\nMr. Justice Marshall\\nconcurs in the judgmen...</td>\n",
       "      <td>1980-06-30</td>\n",
       "      <td>1.0</td>\n",
       "      <td>47</td>\n",
       "    </tr>\n",
       "    <tr>\n",
       "      <th>11364</th>\n",
       "      <td>14465</td>\n",
       "      <td>9431815</td>\n",
       "      <td>112320</td>\n",
       "      <td>030concurrence</td>\n",
       "      <td>\\nJustice White\\nconcurs in the judgment.\\n</td>\n",
       "      <td>1989-06-23</td>\n",
       "      <td>2.0</td>\n",
       "      <td>40</td>\n",
       "    </tr>\n",
       "    <tr>\n",
       "      <th>5051</th>\n",
       "      <td>6428</td>\n",
       "      <td>9422182</td>\n",
       "      <td>106211</td>\n",
       "      <td>040dissent</td>\n",
       "      <td>\\nMr. Justice Douglas\\ndissents.\\n</td>\n",
       "      <td>1961-04-17</td>\n",
       "      <td>1.0</td>\n",
       "      <td>31</td>\n",
       "    </tr>\n",
       "    <tr>\n",
       "      <th>12198</th>\n",
       "      <td>15551</td>\n",
       "      <td>9433031</td>\n",
       "      <td>117869</td>\n",
       "      <td>035concurrenceinpart</td>\n",
       "      <td>\\nJustice Stevens,\\n</td>\n",
       "      <td>1994-08-24</td>\n",
       "      <td>1.0</td>\n",
       "      <td>18</td>\n",
       "    </tr>\n",
       "  </tbody>\n",
       "</table>\n",
       "<p>26425 rows × 8 columns</p>\n",
       "</div>"
      ],
      "text/plain": [
       "       Unnamed: 0       id  cluster_id                  type  \\\n",
       "17561       22372   109380      109380           010combined   \n",
       "19956       25446   131149      131149           010combined   \n",
       "2379        23622   108605      108605           010combined   \n",
       "2018        19791   149702      149702           010combined   \n",
       "18690       23833   809122      809122           010combined   \n",
       "...           ...      ...         ...                   ...   \n",
       "13181       16857  9435158      145777            040dissent   \n",
       "9408        11976  9428071      110337        030concurrence   \n",
       "11364       14465  9431815      112320        030concurrence   \n",
       "5051         6428  9422182      106211            040dissent   \n",
       "12198       15551  9433031      117869  035concurrenceinpart   \n",
       "\n",
       "                                           decision_text  date_filed  \\\n",
       "17561  \\n424 U.S. 1 (1976)\\nBUCKLEY ET AL.\\nv.\\nVALEO...  1976-02-27   \n",
       "19956  \\n540 U.S. 93 (2003)\\nMcCONNELL, UNITED STATES...  2003-12-10   \n",
       "2379   \\n408 U.S. 238 (1972)\\nFURMAN\\nv.\\nGEORGIA.\\nN...  1972-06-29   \n",
       "2018   (Slip Opinion)              OCTOBER TERM, 2009...  2010-06-28   \n",
       "18690  (Slip Opinion)              OCTOBER TERM, 2011...  2012-06-28   \n",
       "...                                                  ...         ...   \n",
       "13181  \\n*681Justice Breyer, with whom Justice Steven...  2008-06-26   \n",
       "9408   \\nMr. Justice Marshall\\nconcurs in the judgmen...  1980-06-30   \n",
       "11364        \\nJustice White\\nconcurs in the judgment.\\n  1989-06-23   \n",
       "5051                  \\nMr. Justice Douglas\\ndissents.\\n  1961-04-17   \n",
       "12198                               \\nJustice Stevens,\\n  1994-08-24   \n",
       "\n",
       "       scdb_decision_direction  text_length  \n",
       "17561                      2.0       534940  \n",
       "19956                      2.0       525918  \n",
       "2379                       2.0       461262  \n",
       "2018                       1.0       459668  \n",
       "18690                      2.0       408240  \n",
       "...                        ...          ...  \n",
       "13181                      1.0           56  \n",
       "9408                       1.0           47  \n",
       "11364                      2.0           40  \n",
       "5051                       1.0           31  \n",
       "12198                      1.0           18  \n",
       "\n",
       "[26425 rows x 8 columns]"
      ]
     },
     "execution_count": 27,
     "metadata": {},
     "output_type": "execute_result"
    }
   ],
   "source": [
    "all_df.sort_values('text_length', ascending = False)"
   ]
  },
  {
   "cell_type": "code",
   "execution_count": 44,
   "id": "3cfdf6c0-1838-4e26-8ff5-15c6e8f18f46",
   "metadata": {},
   "outputs": [
    {
     "data": {
      "text/plain": [
       "18"
      ]
     },
     "execution_count": 44,
     "metadata": {},
     "output_type": "execute_result"
    }
   ],
   "source": [
    "np.min(all_df[all_df['scdb_decision_direction']==1.0]['text_length'])"
   ]
  },
  {
   "cell_type": "code",
   "execution_count": 43,
   "id": "ce6ef626-cc14-468c-9245-00ade6990fe2",
   "metadata": {},
   "outputs": [
    {
     "data": {
      "text/plain": [
       "40"
      ]
     },
     "execution_count": 43,
     "metadata": {},
     "output_type": "execute_result"
    }
   ],
   "source": [
    "np.min(all_df[all_df['scdb_decision_direction']==2.0]['text_length'])"
   ]
  },
  {
   "cell_type": "code",
   "execution_count": null,
   "id": "57038793-4b84-4073-817c-d89e8b6c700f",
   "metadata": {},
   "outputs": [],
   "source": []
  }
 ],
 "metadata": {
  "kernelspec": {
   "display_name": "Python 3 (ipykernel)",
   "language": "python",
   "name": "python3"
  },
  "language_info": {
   "codemirror_mode": {
    "name": "ipython",
    "version": 3
   },
   "file_extension": ".py",
   "mimetype": "text/x-python",
   "name": "python",
   "nbconvert_exporter": "python",
   "pygments_lexer": "ipython3",
   "version": "3.9.10"
  }
 },
 "nbformat": 4,
 "nbformat_minor": 5
}
