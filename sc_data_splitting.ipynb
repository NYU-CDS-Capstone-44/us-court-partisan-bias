{
 "cells": [
  {
   "cell_type": "code",
   "execution_count": null,
   "id": "aa2d7d33-a413-4c1a-9131-0dc82bc9bf13",
   "metadata": {},
   "outputs": [
    {
     "name": "stdout",
     "output_type": "stream",
     "text": [
      "Defaulting to user installation because normal site-packages is not writeable\n",
      "Collecting scikit-learn\n",
      "  Downloading scikit_learn-1.3.2-cp39-cp39-manylinux_2_17_x86_64.manylinux2014_x86_64.whl (10.9 MB)\n",
      "\u001b[2K     \u001b[90m━━━━━━━━━━━━━━━━━━━━━━━━━━━━━━━━━━━━━━━━\u001b[0m \u001b[32m10.9/10.9 MB\u001b[0m \u001b[31m60.9 MB/s\u001b[0m eta \u001b[36m0:00:00\u001b[0m00:01\u001b[0m00:01\u001b[0m\n",
      "\u001b[?25hRequirement already satisfied: numpy<2.0,>=1.17.3 in /ext3/miniconda3/lib/python3.9/site-packages (from scikit-learn) (1.22.2)\n",
      "Collecting joblib>=1.1.1\n",
      "  Downloading joblib-1.3.2-py3-none-any.whl (302 kB)\n",
      "\u001b[2K     \u001b[90m━━━━━━━━━━━━━━━━━━━━━━━━━━━━━━━━━━━━━━━\u001b[0m \u001b[32m302.2/302.2 KB\u001b[0m \u001b[31m3.1 MB/s\u001b[0m eta \u001b[36m0:00:00\u001b[0m00:01\u001b[0m\n",
      "\u001b[?25hCollecting threadpoolctl>=2.0.0\n",
      "  Downloading threadpoolctl-3.2.0-py3-none-any.whl (15 kB)\n",
      "Requirement already satisfied: scipy>=1.5.0 in /ext3/miniconda3/lib/python3.9/site-packages (from scikit-learn) (1.8.0)\n",
      "Installing collected packages: threadpoolctl, joblib, scikit-learn\n",
      "Successfully installed joblib-1.3.2 scikit-learn-1.3.2 threadpoolctl-3.2.0\n"
     ]
    }
   ],
   "source": [
    "!pip install scikit-learn"
   ]
  },
  {
   "cell_type": "code",
   "execution_count": 1,
   "id": "059994cb-8407-4ccf-9d28-5998eea69076",
   "metadata": {},
   "outputs": [
    {
     "name": "stderr",
     "output_type": "stream",
     "text": [
      "/ext3/miniconda3/lib/python3.9/site-packages/dask_jobqueue/core.py:20: FutureWarning: tmpfile is deprecated and will be removed in a future release. Please use dask.utils.tmpfile instead.\n",
      "  from distributed.utils import tmpfile\n"
     ]
    },
    {
     "data": {
      "application/vnd.jupyter.widget-view+json": {
       "model_id": "68c8699220ab40048ce26b98941fe7e8",
       "version_major": 2,
       "version_minor": 0
      },
      "text/plain": [
       "Tab(children=(HTML(value='<div class=\"jp-RenderedHTMLCommon jp-RenderedHTML jp-mod-trusted jp-OutputArea-outpu…"
      ]
     },
     "metadata": {},
     "output_type": "display_data"
    },
    {
     "data": {
      "text/html": [
       "<div>\n",
       "    <div style=\"width: 24px; height: 24px; background-color: #e1e1e1; border: 3px solid #9D9D9D; border-radius: 5px; position: absolute;\"> </div>\n",
       "    <div style=\"margin-left: 48px;\">\n",
       "        <h3 style=\"margin-bottom: 0px;\">Client</h3>\n",
       "        <p style=\"color: #9D9D9D; margin-bottom: 0px;\">Client-6c32f78f-7e92-11ee-972f-b8599ff11f88</p>\n",
       "        <table style=\"width: 100%; text-align: left;\">\n",
       "\n",
       "        <tr>\n",
       "        \n",
       "            <td style=\"text-align: left;\"><strong>Connection method:</strong> Cluster object</td>\n",
       "            <td style=\"text-align: left;\"><strong>Cluster type:</strong> dask_jobqueue.SLURMCluster</td>\n",
       "        \n",
       "        </tr>\n",
       "\n",
       "        \n",
       "            <tr>\n",
       "                <td style=\"text-align: left;\">\n",
       "                    <strong>Dashboard: </strong> <a href=\"http://10.32.35.142:8787/status\" target=\"_blank\">http://10.32.35.142:8787/status</a>\n",
       "                </td>\n",
       "                <td style=\"text-align: left;\"></td>\n",
       "            </tr>\n",
       "        \n",
       "\n",
       "        </table>\n",
       "\n",
       "        \n",
       "            <details>\n",
       "            <summary style=\"margin-bottom: 20px;\"><h3 style=\"display: inline;\">Cluster Info</h3></summary>\n",
       "            <div class=\"jp-RenderedHTMLCommon jp-RenderedHTML jp-mod-trusted jp-OutputArea-output\">\n",
       "    <div style=\"width: 24px; height: 24px; background-color: #e1e1e1; border: 3px solid #9D9D9D; border-radius: 5px; position: absolute;\">\n",
       "    </div>\n",
       "    <div style=\"margin-left: 48px;\">\n",
       "        <h3 style=\"margin-bottom: 0px; margin-top: 0px;\">SLURMCluster</h3>\n",
       "        <p style=\"color: #9D9D9D; margin-bottom: 0px;\">a73c7884</p>\n",
       "        <table style=\"width: 100%; text-align: left;\">\n",
       "            <tr>\n",
       "                <td style=\"text-align: left;\">\n",
       "                    <strong>Dashboard:</strong> <a href=\"http://10.32.35.142:8787/status\" target=\"_blank\">http://10.32.35.142:8787/status</a>\n",
       "                </td>\n",
       "                <td style=\"text-align: left;\">\n",
       "                    <strong>Workers:</strong> 0\n",
       "                </td>\n",
       "            </tr>\n",
       "            <tr>\n",
       "                <td style=\"text-align: left;\">\n",
       "                    <strong>Total threads:</strong> 0\n",
       "                </td>\n",
       "                <td style=\"text-align: left;\">\n",
       "                    <strong>Total memory:</strong> 0 B\n",
       "                </td>\n",
       "            </tr>\n",
       "            \n",
       "        </table>\n",
       "\n",
       "        <details>\n",
       "            <summary style=\"margin-bottom: 20px;\">\n",
       "                <h3 style=\"display: inline;\">Scheduler Info</h3>\n",
       "            </summary>\n",
       "\n",
       "            <div style=\"\">\n",
       "    <div>\n",
       "        <div style=\"width: 24px; height: 24px; background-color: #FFF7E5; border: 3px solid #FF6132; border-radius: 5px; position: absolute;\"> </div>\n",
       "        <div style=\"margin-left: 48px;\">\n",
       "            <h3 style=\"margin-bottom: 0px;\">Scheduler</h3>\n",
       "            <p style=\"color: #9D9D9D; margin-bottom: 0px;\">Scheduler-223a999b-a4f3-4a8f-ab60-ca026d27fc81</p>\n",
       "            <table style=\"width: 100%; text-align: left;\">\n",
       "                <tr>\n",
       "                    <td style=\"text-align: left;\">\n",
       "                        <strong>Comm:</strong> tcp://10.32.35.142:42059\n",
       "                    </td>\n",
       "                    <td style=\"text-align: left;\">\n",
       "                        <strong>Workers:</strong> 0\n",
       "                    </td>\n",
       "                </tr>\n",
       "                <tr>\n",
       "                    <td style=\"text-align: left;\">\n",
       "                        <strong>Dashboard:</strong> <a href=\"http://10.32.35.142:8787/status\" target=\"_blank\">http://10.32.35.142:8787/status</a>\n",
       "                    </td>\n",
       "                    <td style=\"text-align: left;\">\n",
       "                        <strong>Total threads:</strong> 0\n",
       "                    </td>\n",
       "                </tr>\n",
       "                <tr>\n",
       "                    <td style=\"text-align: left;\">\n",
       "                        <strong>Started:</strong> Just now\n",
       "                    </td>\n",
       "                    <td style=\"text-align: left;\">\n",
       "                        <strong>Total memory:</strong> 0 B\n",
       "                    </td>\n",
       "                </tr>\n",
       "            </table>\n",
       "        </div>\n",
       "    </div>\n",
       "\n",
       "    <details style=\"margin-left: 48px;\">\n",
       "        <summary style=\"margin-bottom: 20px;\">\n",
       "            <h3 style=\"display: inline;\">Workers</h3>\n",
       "        </summary>\n",
       "\n",
       "        \n",
       "\n",
       "    </details>\n",
       "</div>\n",
       "\n",
       "        </details>\n",
       "    </div>\n",
       "</div>\n",
       "            </details>\n",
       "        \n",
       "\n",
       "    </div>\n",
       "</div>"
      ],
      "text/plain": [
       "<Client: 'tcp://10.32.35.142:42059' processes=0 threads=0, memory=0 B>"
      ]
     },
     "metadata": {},
     "output_type": "display_data"
    }
   ],
   "source": [
    "from bs4 import BeautifulSoup\n",
    "import os\n",
    "from glob import glob\n",
    "import dask\n",
    "import dask.array as da\n",
    "import dask.bag as db\n",
    "import dask.dataframe as dd\n",
    "from dask import delayed\n",
    "import pandas as pd\n",
    "from distributed import Client\n",
    "from dask_jobqueue import SLURMCluster\n",
    "from IPython.display import display\n",
    "import matplotlib.pyplot as plt\n",
    "import time\n",
    "import numpy as np\n",
    "import pyarrow\n",
    "from dask.diagnostics import ProgressBar\n",
    "import time\n",
    "import csv\n",
    "from tqdm import tqdm\n",
    "from tqdm.notebook import tqdm\n",
    "tqdm.pandas()\n",
    "import io\n",
    "import sys\n",
    "from dask.diagnostics import ProgressBar\n",
    "from sklearn.model_selection import GroupShuffleSplit\n",
    "import nltk\n",
    "from nltk import word_tokenize\n",
    "pd.set_option('display.max_columns', None)\n",
    "pd.set_option('display.max_colwidth', None)\n",
    "csv.field_size_limit(sys.maxsize)\n",
    "\n",
    "\n",
    "# Set LOCAL to True for single-machine execution while developing\n",
    "# Set LOCAL to False for cluster execution\n",
    "LOCAL = False\n",
    "\n",
    "\n",
    "if LOCAL:\n",
    "    # This line creates a single-machine dask client\n",
    "    client = Client()\n",
    "else:    \n",
    "    # This line creates a SLURM cluster dask and dask client\n",
    "    # Logging outputs will be stored in /scratch/{your-netid}\n",
    "    \n",
    "    cluster = SLURMCluster(\n",
    "                           # Memory and core limits should be sufficient here\n",
    "                           memory='64GB', cores=8,\n",
    "\n",
    "                            # Ensure that Dask uses the correct version of Python on the cluster\n",
    "                            python='/scratch/work/public/dask/{}/bin/python'.format(dask.__version__),                           \n",
    "                           \n",
    "                            # Place the output logs in an accessible location\n",
    "                            job_extra=['--export=NONE --output=/scratch/{}/slurm-%j.out'.format(os.environ['SLURM_JOB_USER'])]\n",
    "    )\n",
    "\n",
    "    cluster.submit_command = 'slurm'\n",
    "    cluster.scale(200) \n",
    "\n",
    "    display(cluster)\n",
    "    client = Client(cluster)\n",
    "\n",
    "display(client)"
   ]
  },
  {
   "cell_type": "code",
   "execution_count": 2,
   "id": "16404717-8943-475b-aedf-c90f74916b8d",
   "metadata": {},
   "outputs": [],
   "source": [
    "# Load in decision text\n",
    "text_df = pd.read_csv('/vast/amr10211/text-opinions-data-sc.csv') #Update File Path"
   ]
  },
  {
   "cell_type": "code",
   "execution_count": 3,
   "id": "05cae3f6-9abd-4314-8ac9-7c8032d0e629",
   "metadata": {},
   "outputs": [],
   "source": [
    "# Load in cluster data and decision direction\n",
    "cluster_df = pd.read_csv('/vast/amr10211/opinions-cluster-data-sc.csv') #Update File Path"
   ]
  },
  {
   "cell_type": "code",
   "execution_count": 4,
   "id": "1b1a24f0-cb45-4083-b236-82c89d57c81b",
   "metadata": {},
   "outputs": [],
   "source": [
    "# Drop unnamed column\n",
    "pd.reset_option('display.max_colwidth')\n",
    "text_df = text_df.drop(text_df.columns[0], axis=1)\n",
    "\n",
    "# Rename id in clusters data to cluster id for merging\n",
    "cluster_df = cluster_df.rename(columns={\"id\": \"cluster_id\"})\n",
    "\n",
    "# Merge dataframes on cluster id\n",
    "data_df = text_df.merge(cluster_df, how='left', on='cluster_id')"
   ]
  },
  {
   "cell_type": "code",
   "execution_count": 5,
   "id": "d17a8de2-ac94-45ff-819b-d1dd7aeb1abe",
   "metadata": {},
   "outputs": [
    {
     "data": {
      "text/html": [
       "<div>\n",
       "<style scoped>\n",
       "    .dataframe tbody tr th:only-of-type {\n",
       "        vertical-align: middle;\n",
       "    }\n",
       "\n",
       "    .dataframe tbody tr th {\n",
       "        vertical-align: top;\n",
       "    }\n",
       "\n",
       "    .dataframe thead th {\n",
       "        text-align: right;\n",
       "    }\n",
       "</style>\n",
       "<table border=\"1\" class=\"dataframe\">\n",
       "  <thead>\n",
       "    <tr style=\"text-align: right;\">\n",
       "      <th></th>\n",
       "      <th>id</th>\n",
       "      <th>cluster_id</th>\n",
       "      <th>type</th>\n",
       "      <th>decision_text</th>\n",
       "      <th>date_filed</th>\n",
       "      <th>scdb_decision_direction</th>\n",
       "    </tr>\n",
       "  </thead>\n",
       "  <tbody>\n",
       "    <tr>\n",
       "      <th>0</th>\n",
       "      <td>9420371</td>\n",
       "      <td>104708</td>\n",
       "      <td>020lead</td>\n",
       "      <td>\\nMr. Justice Frankfurter\\ndelivered the opini...</td>\n",
       "      <td>1949-06-27</td>\n",
       "      <td>1.0</td>\n",
       "    </tr>\n",
       "    <tr>\n",
       "      <th>1</th>\n",
       "      <td>9419099</td>\n",
       "      <td>103340</td>\n",
       "      <td>020lead</td>\n",
       "      <td>\\nMr. Justice Roberts\\ndelivered the opinion o...</td>\n",
       "      <td>1940-05-20</td>\n",
       "      <td>2.0</td>\n",
       "    </tr>\n",
       "    <tr>\n",
       "      <th>2</th>\n",
       "      <td>9419100</td>\n",
       "      <td>103340</td>\n",
       "      <td>040dissent</td>\n",
       "      <td>\\nMr. Justice Black, Mr. Justice Douglas, and ...</td>\n",
       "      <td>1940-05-20</td>\n",
       "      <td>1.0</td>\n",
       "    </tr>\n",
       "    <tr>\n",
       "      <th>3</th>\n",
       "      <td>103341</td>\n",
       "      <td>103341</td>\n",
       "      <td>010combined</td>\n",
       "      <td>\\n\\n \\n   *18\\n   \\n  MR. Justice Black\\n \\n\\n...</td>\n",
       "      <td>1940-05-20</td>\n",
       "      <td>2.0</td>\n",
       "    </tr>\n",
       "    <tr>\n",
       "      <th>4</th>\n",
       "      <td>103342</td>\n",
       "      <td>103342</td>\n",
       "      <td>010combined</td>\n",
       "      <td>\\n\\n  Mr. Justice Reed\\n \\n\\n  delivered the o...</td>\n",
       "      <td>1940-04-22</td>\n",
       "      <td>2.0</td>\n",
       "    </tr>\n",
       "    <tr>\n",
       "      <th>...</th>\n",
       "      <td>...</td>\n",
       "      <td>...</td>\n",
       "      <td>...</td>\n",
       "      <td>...</td>\n",
       "      <td>...</td>\n",
       "      <td>...</td>\n",
       "    </tr>\n",
       "    <tr>\n",
       "      <th>26877</th>\n",
       "      <td>105923</td>\n",
       "      <td>105923</td>\n",
       "      <td>010combined</td>\n",
       "      <td>\\n360 U.S. 395 (1959)\\nPITTSBURGH PLATE GLASS ...</td>\n",
       "      <td>1959-10-12</td>\n",
       "      <td>1.0</td>\n",
       "    </tr>\n",
       "    <tr>\n",
       "      <th>26878</th>\n",
       "      <td>1855418</td>\n",
       "      <td>1855418</td>\n",
       "      <td>010combined</td>\n",
       "      <td>\\n\\n \\n   *217\\n   \\n  Per Curiam.\\n \\n\\n  I\\n...</td>\n",
       "      <td>2000-01-12</td>\n",
       "      <td>2.0</td>\n",
       "    </tr>\n",
       "    <tr>\n",
       "      <th>26879</th>\n",
       "      <td>2680438</td>\n",
       "      <td>2680438</td>\n",
       "      <td>010combined</td>\n",
       "      <td>\\n\\n  Petitioner Fifth Third Bancorp maintains...</td>\n",
       "      <td>2014-06-25</td>\n",
       "      <td>1.0</td>\n",
       "    </tr>\n",
       "    <tr>\n",
       "      <th>26880</th>\n",
       "      <td>112890</td>\n",
       "      <td>112890</td>\n",
       "      <td>010combined</td>\n",
       "      <td>\\n509 U.S. 86 (1993)\\nHARPER et al.\\nv.\\nVIRGI...</td>\n",
       "      <td>1993-06-18</td>\n",
       "      <td>2.0</td>\n",
       "    </tr>\n",
       "    <tr>\n",
       "      <th>26881</th>\n",
       "      <td>134742</td>\n",
       "      <td>134742</td>\n",
       "      <td>010combined</td>\n",
       "      <td>\\n541 U.S. 465 (2004)\\nTILL ET UX.\\nv.\\nSCS CR...</td>\n",
       "      <td>2004-05-17</td>\n",
       "      <td>2.0</td>\n",
       "    </tr>\n",
       "  </tbody>\n",
       "</table>\n",
       "<p>26425 rows × 6 columns</p>\n",
       "</div>"
      ],
      "text/plain": [
       "            id  cluster_id         type  \\\n",
       "0      9420371      104708      020lead   \n",
       "1      9419099      103340      020lead   \n",
       "2      9419100      103340   040dissent   \n",
       "3       103341      103341  010combined   \n",
       "4       103342      103342  010combined   \n",
       "...        ...         ...          ...   \n",
       "26877   105923      105923  010combined   \n",
       "26878  1855418     1855418  010combined   \n",
       "26879  2680438     2680438  010combined   \n",
       "26880   112890      112890  010combined   \n",
       "26881   134742      134742  010combined   \n",
       "\n",
       "                                           decision_text  date_filed  \\\n",
       "0      \\nMr. Justice Frankfurter\\ndelivered the opini...  1949-06-27   \n",
       "1      \\nMr. Justice Roberts\\ndelivered the opinion o...  1940-05-20   \n",
       "2      \\nMr. Justice Black, Mr. Justice Douglas, and ...  1940-05-20   \n",
       "3      \\n\\n \\n   *18\\n   \\n  MR. Justice Black\\n \\n\\n...  1940-05-20   \n",
       "4      \\n\\n  Mr. Justice Reed\\n \\n\\n  delivered the o...  1940-04-22   \n",
       "...                                                  ...         ...   \n",
       "26877  \\n360 U.S. 395 (1959)\\nPITTSBURGH PLATE GLASS ...  1959-10-12   \n",
       "26878  \\n\\n \\n   *217\\n   \\n  Per Curiam.\\n \\n\\n  I\\n...  2000-01-12   \n",
       "26879  \\n\\n  Petitioner Fifth Third Bancorp maintains...  2014-06-25   \n",
       "26880  \\n509 U.S. 86 (1993)\\nHARPER et al.\\nv.\\nVIRGI...  1993-06-18   \n",
       "26881  \\n541 U.S. 465 (2004)\\nTILL ET UX.\\nv.\\nSCS CR...  2004-05-17   \n",
       "\n",
       "      scdb_decision_direction  \n",
       "0                         1.0  \n",
       "1                         2.0  \n",
       "2                         1.0  \n",
       "3                         2.0  \n",
       "4                         2.0  \n",
       "...                       ...  \n",
       "26877                     1.0  \n",
       "26878                     2.0  \n",
       "26879                     1.0  \n",
       "26880                     2.0  \n",
       "26881                     2.0  \n",
       "\n",
       "[26425 rows x 6 columns]"
      ]
     },
     "metadata": {},
     "output_type": "display_data"
    }
   ],
   "source": [
    "# Choose subset of columns\n",
    "filtered_df = data_df[['id', 'cluster_id','type','decision_text', 'date_filed', 'scdb_decision_direction']]\n",
    "\n",
    "#Filter date filed\n",
    "filtered_df = filtered_df[filtered_df['date_filed']>='1930-01-01'].reset_index(drop=True)\n",
    "\n",
    "\n",
    "# Filter for specific types\n",
    "types = [\"010combined\", \"015unanimous\", \"020lead\", \"025plurality\", \"030concurrence\", \"035concurrenceinpart\", \"040dissent\"]\n",
    "data = filtered_df[filtered_df['type'].isin(types)]\n",
    "\n",
    "#Flip dissent labels:\n",
    "data.loc[(data['type'] == '040dissent') & (data['scdb_decision_direction'] == 1.0), 'scdb_decision_direction'] = 2.0\n",
    "data.loc[(data['type'] == '040dissent') & (data['scdb_decision_direction'] == 2.0), 'scdb_decision_direction'] = 1.0\n",
    "\n",
    "# Drop rows with null values for decision text and decision direction\n",
    "data = data.dropna(subset=['decision_text'])\n",
    "data = data.dropna(subset=['scdb_decision_direction'])\n",
    "\n",
    "# Drop decisions directions that could not be discerned\n",
    "data = data[data['scdb_decision_direction'] != 3.0]\n",
    "data['scdb_decision_direction'] = data['scdb_decision_direction'].astype('category')\n",
    "#data['scdb_decision_direction'] = data['scdb_decision_direction'].map({1.0: 0, 2.0: 1})\n",
    "display(data)"
   ]
  },
  {
   "cell_type": "code",
   "execution_count": 7,
   "id": "5f8571c3-ffd1-402d-9f76-7061728aedb8",
   "metadata": {},
   "outputs": [
    {
     "data": {
      "text/plain": [
       "id                         26425\n",
       "cluster_id                 11204\n",
       "type                           6\n",
       "decision_text              26401\n",
       "date_filed                  2924\n",
       "scdb_decision_direction        2\n",
       "dtype: int64"
      ]
     },
     "execution_count": 7,
     "metadata": {},
     "output_type": "execute_result"
    }
   ],
   "source": [
    "data.nunique()"
   ]
  },
  {
   "cell_type": "code",
   "execution_count": 8,
   "id": "5d2ddbfc-a5e0-42c9-9924-9d9a810e0651",
   "metadata": {},
   "outputs": [],
   "source": [
    "# Test set is 20% of the data\n",
    "splitter = GroupShuffleSplit(n_splits=1, test_size=0.2, random_state=7)\n",
    "train_temp_inds, test_inds = next(splitter.split(data, groups=data['cluster_id']))\n",
    "\n",
    "# Further split train set into train and val: 75%-25% split\n",
    "splitter = GroupShuffleSplit(n_splits=1, test_size=0.25, random_state=7)\n",
    "train_inds, val_inds = next(splitter.split(data.iloc[train_temp_inds], groups=data.iloc[train_temp_inds]['cluster_id']))\n",
    "\n",
    "train = data.iloc[train_temp_inds[train_inds]]\n",
    "val = data.iloc[train_temp_inds[val_inds]]\n",
    "test = data.iloc[test_inds]"
   ]
  },
  {
   "cell_type": "code",
   "execution_count": 9,
   "id": "68b54919-7fcf-438a-9e75-0b2fcbbd6bbf",
   "metadata": {},
   "outputs": [
    {
     "name": "stdout",
     "output_type": "stream",
     "text": [
      "No elements in common\n",
      "No elements in common\n",
      "No elements in common\n"
     ]
    }
   ],
   "source": [
    "# Checking that there is no data leakage \n",
    "cluster_ids_train = train['cluster_id'].tolist()\n",
    "cluster_ids_val = val['cluster_id'].tolist()\n",
    "cluster_ids_test = test['cluster_id'].tolist()\n",
    "\n",
    "common_train_val = set(cluster_ids_train).intersection(cluster_ids_val)\n",
    "if common_train_val:\n",
    "    print(\"Elements in common\")\n",
    "else:\n",
    "    print(\"No elements in common\")\n",
    "    \n",
    "common_train_test = set(cluster_ids_train).intersection(cluster_ids_test)\n",
    "if common_train_test:\n",
    "    print(\"Elements in common\")\n",
    "else:\n",
    "    print(\"No elements in common\")\n",
    "    \n",
    "common_val_test = set(cluster_ids_val).intersection(cluster_ids_test)\n",
    "if common_val_test:\n",
    "    print(\"Elements in common\")\n",
    "else:\n",
    "    print(\"No elements in common\")\n"
   ]
  },
  {
   "cell_type": "code",
   "execution_count": 10,
   "id": "e7060300-394a-4fe4-beae-0f4a06b4902e",
   "metadata": {},
   "outputs": [],
   "source": [
    "train.to_csv('/vast/amr10211/sc-train.csv')\n",
    "val.to_csv('/vast/amr10211/sc-val.csv')\n",
    "test.to_csv('/vast/amr10211/sc-test.csv')"
   ]
  },
  {
   "cell_type": "code",
   "execution_count": 2,
   "id": "9ec2dfe2-1bf5-460d-9cfb-4fa11ba0c594",
   "metadata": {},
   "outputs": [
    {
     "name": "stderr",
     "output_type": "stream",
     "text": [
      "[nltk_data] Downloading package punkt to /home/amr10211/nltk_data...\n",
      "[nltk_data]   Package punkt is already up-to-date!\n"
     ]
    }
   ],
   "source": [
    "nltk.download('punkt')\n",
    "\n",
    "#pull in data if starting from here:\n",
    "train = pd.read_csv('/vast/amr10211/sc-train.csv')\n",
    "val = pd.read_csv('/vast/amr10211/sc-val.csv')\n",
    "test = pd.read_csv('/vast/amr10211/sc-test.csv')"
   ]
  },
  {
   "cell_type": "code",
   "execution_count": 3,
   "id": "c5b32ff0-ae98-48b1-80de-a915ac2eb048",
   "metadata": {},
   "outputs": [],
   "source": [
    "#Tokenize decision text\n",
    "def tokenize_data(text):\n",
    "    return word_tokenize(text)\n"
   ]
  },
  {
   "cell_type": "code",
   "execution_count": 4,
   "id": "5397031a-209c-4923-b55b-2b6a93d6ec23",
   "metadata": {},
   "outputs": [
    {
     "data": {
      "application/vnd.jupyter.widget-view+json": {
       "model_id": "3ec945a342d6497584f8559270ed4849",
       "version_major": 2,
       "version_minor": 0
      },
      "text/plain": [
       "  0%|          | 0/15785 [00:00<?, ?it/s]"
      ]
     },
     "metadata": {},
     "output_type": "display_data"
    }
   ],
   "source": [
    "train['decision_text_tokens'] = train['decision_text'].progress_apply(tokenize_data)\n",
    "train.to_csv('/vast/amr10211/sc-train-tokenized.csv')\n"
   ]
  },
  {
   "cell_type": "code",
   "execution_count": 5,
   "id": "d2425ebd-0683-42f8-a59d-18dbb0f79d13",
   "metadata": {},
   "outputs": [
    {
     "data": {
      "application/vnd.jupyter.widget-view+json": {
       "model_id": "416c128a10d44c958f7013fe90c51fc3",
       "version_major": 2,
       "version_minor": 0
      },
      "text/plain": [
       "  0%|          | 0/5322 [00:00<?, ?it/s]"
      ]
     },
     "metadata": {},
     "output_type": "display_data"
    }
   ],
   "source": [
    "val['decision_text_tokens'] = val['decision_text'].progress_apply(tokenize_data)\n",
    "val.to_csv('/vast/amr10211/sc-val-tokenized.csv')\n"
   ]
  },
  {
   "cell_type": "code",
   "execution_count": 6,
   "id": "ad1aa378-0dce-4bb6-b0c9-962e6795009c",
   "metadata": {},
   "outputs": [
    {
     "data": {
      "application/vnd.jupyter.widget-view+json": {
       "model_id": "9cbeecd13a8b478d9d84926a9632e3a3",
       "version_major": 2,
       "version_minor": 0
      },
      "text/plain": [
       "  0%|          | 0/5318 [00:00<?, ?it/s]"
      ]
     },
     "metadata": {},
     "output_type": "display_data"
    }
   ],
   "source": [
    "test['decision_text_tokens'] = test['decision_text'].progress_apply(tokenize_data)\n",
    "test.to_csv('/vast/amr10211/sc-test-tokenized.csv')\n"
   ]
  },
  {
   "cell_type": "code",
   "execution_count": null,
   "id": "a5599368-d0de-417c-9d5f-49b0e0ba7742",
   "metadata": {},
   "outputs": [],
   "source": []
  }
 ],
 "metadata": {
  "kernelspec": {
   "display_name": "Python 3 (ipykernel)",
   "language": "python",
   "name": "python3"
  },
  "language_info": {
   "codemirror_mode": {
    "name": "ipython",
    "version": 3
   },
   "file_extension": ".py",
   "mimetype": "text/x-python",
   "name": "python",
   "nbconvert_exporter": "python",
   "pygments_lexer": "ipython3",
   "version": "3.9.10"
  }
 },
 "nbformat": 4,
 "nbformat_minor": 5
}
